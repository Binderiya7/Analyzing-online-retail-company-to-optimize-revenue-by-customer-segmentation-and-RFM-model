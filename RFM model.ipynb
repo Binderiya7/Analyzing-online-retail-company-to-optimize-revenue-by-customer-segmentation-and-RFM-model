{
 "cells": [
  {
   "cell_type": "code",
   "execution_count": 2,
   "metadata": {},
   "outputs": [
    {
     "name": "stdout",
     "output_type": "stream",
     "text": [
      "Requirement already satisfied: plotly in c:\\users\\binde\\appdata\\local\\packages\\pythonsoftwarefoundation.python.3.11_qbz5n2kfra8p0\\localcache\\local-packages\\python311\\site-packages (5.23.0)\n",
      "Requirement already satisfied: tenacity>=6.2.0 in c:\\users\\binde\\appdata\\local\\packages\\pythonsoftwarefoundation.python.3.11_qbz5n2kfra8p0\\localcache\\local-packages\\python311\\site-packages (from plotly) (9.0.0)\n",
      "Requirement already satisfied: packaging in c:\\users\\binde\\appdata\\local\\packages\\pythonsoftwarefoundation.python.3.11_qbz5n2kfra8p0\\localcache\\local-packages\\python311\\site-packages (from plotly) (24.1)\n"
     ]
    },
    {
     "name": "stderr",
     "output_type": "stream",
     "text": [
      "\n",
      "[notice] A new release of pip is available: 24.0 -> 24.2\n",
      "[notice] To update, run: C:\\Users\\binde\\AppData\\Local\\Microsoft\\WindowsApps\\PythonSoftwareFoundation.Python.3.11_qbz5n2kfra8p0\\python.exe -m pip install --upgrade pip\n"
     ]
    }
   ],
   "source": [
    "\n",
    "\n",
    "!pip install plotly\n"
   ]
  },
  {
   "cell_type": "code",
   "execution_count": 5,
   "metadata": {},
   "outputs": [
    {
     "name": "stdout",
     "output_type": "stream",
     "text": [
      "Collecting nbformat\n",
      "  Downloading nbformat-5.10.4-py3-none-any.whl.metadata (3.6 kB)\n",
      "Collecting fastjsonschema>=2.15 (from nbformat)\n",
      "  Downloading fastjsonschema-2.20.0-py3-none-any.whl.metadata (2.1 kB)\n",
      "Collecting jsonschema>=2.6 (from nbformat)\n",
      "  Downloading jsonschema-4.23.0-py3-none-any.whl.metadata (7.9 kB)\n",
      "Requirement already satisfied: jupyter-core!=5.0.*,>=4.12 in c:\\users\\binde\\appdata\\local\\packages\\pythonsoftwarefoundation.python.3.11_qbz5n2kfra8p0\\localcache\\local-packages\\python311\\site-packages (from nbformat) (5.7.2)\n",
      "Requirement already satisfied: traitlets>=5.1 in c:\\users\\binde\\appdata\\local\\packages\\pythonsoftwarefoundation.python.3.11_qbz5n2kfra8p0\\localcache\\local-packages\\python311\\site-packages (from nbformat) (5.14.3)\n",
      "Collecting attrs>=22.2.0 (from jsonschema>=2.6->nbformat)\n",
      "  Downloading attrs-24.2.0-py3-none-any.whl.metadata (11 kB)\n",
      "Collecting jsonschema-specifications>=2023.03.6 (from jsonschema>=2.6->nbformat)\n",
      "  Downloading jsonschema_specifications-2023.12.1-py3-none-any.whl.metadata (3.0 kB)\n",
      "Collecting referencing>=0.28.4 (from jsonschema>=2.6->nbformat)\n",
      "  Downloading referencing-0.35.1-py3-none-any.whl.metadata (2.8 kB)\n",
      "Collecting rpds-py>=0.7.1 (from jsonschema>=2.6->nbformat)\n",
      "  Downloading rpds_py-0.20.0-cp311-none-win_amd64.whl.metadata (4.2 kB)\n",
      "Requirement already satisfied: platformdirs>=2.5 in c:\\users\\binde\\appdata\\local\\packages\\pythonsoftwarefoundation.python.3.11_qbz5n2kfra8p0\\localcache\\local-packages\\python311\\site-packages (from jupyter-core!=5.0.*,>=4.12->nbformat) (4.2.2)\n",
      "Requirement already satisfied: pywin32>=300 in c:\\users\\binde\\appdata\\local\\packages\\pythonsoftwarefoundation.python.3.11_qbz5n2kfra8p0\\localcache\\local-packages\\python311\\site-packages (from jupyter-core!=5.0.*,>=4.12->nbformat) (306)\n",
      "Downloading nbformat-5.10.4-py3-none-any.whl (78 kB)\n",
      "Downloading fastjsonschema-2.20.0-py3-none-any.whl (23 kB)\n",
      "Downloading jsonschema-4.23.0-py3-none-any.whl (88 kB)\n",
      "Downloading attrs-24.2.0-py3-none-any.whl (63 kB)\n",
      "Downloading jsonschema_specifications-2023.12.1-py3-none-any.whl (18 kB)\n",
      "Downloading referencing-0.35.1-py3-none-any.whl (26 kB)\n",
      "Downloading rpds_py-0.20.0-cp311-none-win_amd64.whl (213 kB)\n",
      "Installing collected packages: fastjsonschema, rpds-py, attrs, referencing, jsonschema-specifications, jsonschema, nbformat\n",
      "Successfully installed attrs-24.2.0 fastjsonschema-2.20.0 jsonschema-4.23.0 jsonschema-specifications-2023.12.1 nbformat-5.10.4 referencing-0.35.1 rpds-py-0.20.0\n"
     ]
    }
   ],
   "source": [
    "!pip install nbformat --upgrade\n"
   ]
  },
  {
   "cell_type": "code",
   "execution_count": 9,
   "metadata": {},
   "outputs": [],
   "source": [
    "import pandas as pd\n",
    "from datetime import datetime as dt, timedelta\n",
    "import plotly.express as px\n",
    "import plotly.graph_objects as go\n",
    "import plotly.colors"
   ]
  },
  {
   "cell_type": "code",
   "execution_count": 16,
   "metadata": {},
   "outputs": [
    {
     "data": {
      "text/html": [
       "<div>\n",
       "<style scoped>\n",
       "    .dataframe tbody tr th:only-of-type {\n",
       "        vertical-align: middle;\n",
       "    }\n",
       "\n",
       "    .dataframe tbody tr th {\n",
       "        vertical-align: top;\n",
       "    }\n",
       "\n",
       "    .dataframe thead th {\n",
       "        text-align: right;\n",
       "    }\n",
       "</style>\n",
       "<table border=\"1\" class=\"dataframe\">\n",
       "  <thead>\n",
       "    <tr style=\"text-align: right;\">\n",
       "      <th></th>\n",
       "      <th>InvoiceNo</th>\n",
       "      <th>StockCode</th>\n",
       "      <th>Description</th>\n",
       "      <th>Quantity</th>\n",
       "      <th>InvoiceDate</th>\n",
       "      <th>UnitPrice</th>\n",
       "      <th>CustomerID</th>\n",
       "      <th>Country</th>\n",
       "    </tr>\n",
       "  </thead>\n",
       "  <tbody>\n",
       "    <tr>\n",
       "      <th>0</th>\n",
       "      <td>536365</td>\n",
       "      <td>85123A</td>\n",
       "      <td>WHITE HANGING HEART T-LIGHT HOLDER</td>\n",
       "      <td>6</td>\n",
       "      <td>2010-12-01 08:26:00</td>\n",
       "      <td>2.55</td>\n",
       "      <td>17850.0</td>\n",
       "      <td>United Kingdom</td>\n",
       "    </tr>\n",
       "    <tr>\n",
       "      <th>1</th>\n",
       "      <td>536365</td>\n",
       "      <td>71053</td>\n",
       "      <td>WHITE METAL LANTERN</td>\n",
       "      <td>6</td>\n",
       "      <td>2010-12-01 08:26:00</td>\n",
       "      <td>3.39</td>\n",
       "      <td>17850.0</td>\n",
       "      <td>United Kingdom</td>\n",
       "    </tr>\n",
       "    <tr>\n",
       "      <th>2</th>\n",
       "      <td>536365</td>\n",
       "      <td>84406B</td>\n",
       "      <td>CREAM CUPID HEARTS COAT HANGER</td>\n",
       "      <td>8</td>\n",
       "      <td>2010-12-01 08:26:00</td>\n",
       "      <td>2.75</td>\n",
       "      <td>17850.0</td>\n",
       "      <td>United Kingdom</td>\n",
       "    </tr>\n",
       "    <tr>\n",
       "      <th>3</th>\n",
       "      <td>536365</td>\n",
       "      <td>84029G</td>\n",
       "      <td>KNITTED UNION FLAG HOT WATER BOTTLE</td>\n",
       "      <td>6</td>\n",
       "      <td>2010-12-01 08:26:00</td>\n",
       "      <td>3.39</td>\n",
       "      <td>17850.0</td>\n",
       "      <td>United Kingdom</td>\n",
       "    </tr>\n",
       "    <tr>\n",
       "      <th>4</th>\n",
       "      <td>536365</td>\n",
       "      <td>84029E</td>\n",
       "      <td>RED WOOLLY HOTTIE WHITE HEART.</td>\n",
       "      <td>6</td>\n",
       "      <td>2010-12-01 08:26:00</td>\n",
       "      <td>3.39</td>\n",
       "      <td>17850.0</td>\n",
       "      <td>United Kingdom</td>\n",
       "    </tr>\n",
       "  </tbody>\n",
       "</table>\n",
       "</div>"
      ],
      "text/plain": [
       "  InvoiceNo StockCode                          Description  Quantity  \\\n",
       "0    536365    85123A   WHITE HANGING HEART T-LIGHT HOLDER         6   \n",
       "1    536365     71053                  WHITE METAL LANTERN         6   \n",
       "2    536365    84406B       CREAM CUPID HEARTS COAT HANGER         8   \n",
       "3    536365    84029G  KNITTED UNION FLAG HOT WATER BOTTLE         6   \n",
       "4    536365    84029E       RED WOOLLY HOTTIE WHITE HEART.         6   \n",
       "\n",
       "           InvoiceDate  UnitPrice  CustomerID         Country  \n",
       "0  2010-12-01 08:26:00       2.55     17850.0  United Kingdom  \n",
       "1  2010-12-01 08:26:00       3.39     17850.0  United Kingdom  \n",
       "2  2010-12-01 08:26:00       2.75     17850.0  United Kingdom  \n",
       "3  2010-12-01 08:26:00       3.39     17850.0  United Kingdom  \n",
       "4  2010-12-01 08:26:00       3.39     17850.0  United Kingdom  "
      ]
     },
     "execution_count": 16,
     "metadata": {},
     "output_type": "execute_result"
    }
   ],
   "source": [
    "data = pd.read_csv(r\"c:\\Users\\binde\\Documents\\Python Projects\\online_retail.csv\")\n",
    "data.head()"
   ]
  },
  {
   "cell_type": "code",
   "execution_count": 17,
   "metadata": {},
   "outputs": [
    {
     "data": {
      "text/html": [
       "<div>\n",
       "<style scoped>\n",
       "    .dataframe tbody tr th:only-of-type {\n",
       "        vertical-align: middle;\n",
       "    }\n",
       "\n",
       "    .dataframe tbody tr th {\n",
       "        vertical-align: top;\n",
       "    }\n",
       "\n",
       "    .dataframe thead th {\n",
       "        text-align: right;\n",
       "    }\n",
       "</style>\n",
       "<table border=\"1\" class=\"dataframe\">\n",
       "  <thead>\n",
       "    <tr style=\"text-align: right;\">\n",
       "      <th></th>\n",
       "      <th>InvoiceNo</th>\n",
       "      <th>StockCode</th>\n",
       "      <th>Description</th>\n",
       "      <th>Quantity</th>\n",
       "      <th>InvoiceDate</th>\n",
       "      <th>UnitPrice</th>\n",
       "      <th>CustomerID</th>\n",
       "      <th>Country</th>\n",
       "    </tr>\n",
       "  </thead>\n",
       "  <tbody>\n",
       "    <tr>\n",
       "      <th>541904</th>\n",
       "      <td>581587</td>\n",
       "      <td>22613</td>\n",
       "      <td>PACK OF 20 SPACEBOY NAPKINS</td>\n",
       "      <td>12</td>\n",
       "      <td>2011-12-09 12:50:00</td>\n",
       "      <td>0.85</td>\n",
       "      <td>12680.0</td>\n",
       "      <td>France</td>\n",
       "    </tr>\n",
       "    <tr>\n",
       "      <th>541905</th>\n",
       "      <td>581587</td>\n",
       "      <td>22899</td>\n",
       "      <td>CHILDREN'S APRON DOLLY GIRL</td>\n",
       "      <td>6</td>\n",
       "      <td>2011-12-09 12:50:00</td>\n",
       "      <td>2.10</td>\n",
       "      <td>12680.0</td>\n",
       "      <td>France</td>\n",
       "    </tr>\n",
       "    <tr>\n",
       "      <th>541906</th>\n",
       "      <td>581587</td>\n",
       "      <td>23254</td>\n",
       "      <td>CHILDRENS CUTLERY DOLLY GIRL</td>\n",
       "      <td>4</td>\n",
       "      <td>2011-12-09 12:50:00</td>\n",
       "      <td>4.15</td>\n",
       "      <td>12680.0</td>\n",
       "      <td>France</td>\n",
       "    </tr>\n",
       "    <tr>\n",
       "      <th>541907</th>\n",
       "      <td>581587</td>\n",
       "      <td>23255</td>\n",
       "      <td>CHILDRENS CUTLERY CIRCUS PARADE</td>\n",
       "      <td>4</td>\n",
       "      <td>2011-12-09 12:50:00</td>\n",
       "      <td>4.15</td>\n",
       "      <td>12680.0</td>\n",
       "      <td>France</td>\n",
       "    </tr>\n",
       "    <tr>\n",
       "      <th>541908</th>\n",
       "      <td>581587</td>\n",
       "      <td>22138</td>\n",
       "      <td>BAKING SET 9 PIECE RETROSPOT</td>\n",
       "      <td>3</td>\n",
       "      <td>2011-12-09 12:50:00</td>\n",
       "      <td>4.95</td>\n",
       "      <td>12680.0</td>\n",
       "      <td>France</td>\n",
       "    </tr>\n",
       "  </tbody>\n",
       "</table>\n",
       "</div>"
      ],
      "text/plain": [
       "       InvoiceNo StockCode                      Description  Quantity  \\\n",
       "541904    581587     22613      PACK OF 20 SPACEBOY NAPKINS        12   \n",
       "541905    581587     22899     CHILDREN'S APRON DOLLY GIRL          6   \n",
       "541906    581587     23254    CHILDRENS CUTLERY DOLLY GIRL          4   \n",
       "541907    581587     23255  CHILDRENS CUTLERY CIRCUS PARADE         4   \n",
       "541908    581587     22138    BAKING SET 9 PIECE RETROSPOT          3   \n",
       "\n",
       "                InvoiceDate  UnitPrice  CustomerID Country  \n",
       "541904  2011-12-09 12:50:00       0.85     12680.0  France  \n",
       "541905  2011-12-09 12:50:00       2.10     12680.0  France  \n",
       "541906  2011-12-09 12:50:00       4.15     12680.0  France  \n",
       "541907  2011-12-09 12:50:00       4.15     12680.0  France  \n",
       "541908  2011-12-09 12:50:00       4.95     12680.0  France  "
      ]
     },
     "execution_count": 17,
     "metadata": {},
     "output_type": "execute_result"
    }
   ],
   "source": [
    "data.tail()\n"
   ]
  },
  {
   "cell_type": "code",
   "execution_count": 18,
   "metadata": {},
   "outputs": [],
   "source": [
    "data.dropna(subset=['CustomerID'], inplace=True)"
   ]
  },
  {
   "cell_type": "code",
   "execution_count": 19,
   "metadata": {},
   "outputs": [],
   "source": [
    "data['InvoiceDate']=pd.to_datetime(data['InvoiceDate'])\n",
    "data['TotalAmount']=data['Quantity']* data['UnitPrice']\n"
   ]
  },
  {
   "cell_type": "code",
   "execution_count": 20,
   "metadata": {},
   "outputs": [
    {
     "data": {
      "text/html": [
       "<div>\n",
       "<style scoped>\n",
       "    .dataframe tbody tr th:only-of-type {\n",
       "        vertical-align: middle;\n",
       "    }\n",
       "\n",
       "    .dataframe tbody tr th {\n",
       "        vertical-align: top;\n",
       "    }\n",
       "\n",
       "    .dataframe thead th {\n",
       "        text-align: right;\n",
       "    }\n",
       "</style>\n",
       "<table border=\"1\" class=\"dataframe\">\n",
       "  <thead>\n",
       "    <tr style=\"text-align: right;\">\n",
       "      <th></th>\n",
       "      <th>InvoiceNo</th>\n",
       "      <th>StockCode</th>\n",
       "      <th>Description</th>\n",
       "      <th>Quantity</th>\n",
       "      <th>InvoiceDate</th>\n",
       "      <th>UnitPrice</th>\n",
       "      <th>CustomerID</th>\n",
       "      <th>Country</th>\n",
       "      <th>TotalAmount</th>\n",
       "    </tr>\n",
       "  </thead>\n",
       "  <tbody>\n",
       "    <tr>\n",
       "      <th>0</th>\n",
       "      <td>536365</td>\n",
       "      <td>85123A</td>\n",
       "      <td>WHITE HANGING HEART T-LIGHT HOLDER</td>\n",
       "      <td>6</td>\n",
       "      <td>2010-12-01 08:26:00</td>\n",
       "      <td>2.55</td>\n",
       "      <td>17850.0</td>\n",
       "      <td>United Kingdom</td>\n",
       "      <td>15.30</td>\n",
       "    </tr>\n",
       "    <tr>\n",
       "      <th>1</th>\n",
       "      <td>536365</td>\n",
       "      <td>71053</td>\n",
       "      <td>WHITE METAL LANTERN</td>\n",
       "      <td>6</td>\n",
       "      <td>2010-12-01 08:26:00</td>\n",
       "      <td>3.39</td>\n",
       "      <td>17850.0</td>\n",
       "      <td>United Kingdom</td>\n",
       "      <td>20.34</td>\n",
       "    </tr>\n",
       "    <tr>\n",
       "      <th>2</th>\n",
       "      <td>536365</td>\n",
       "      <td>84406B</td>\n",
       "      <td>CREAM CUPID HEARTS COAT HANGER</td>\n",
       "      <td>8</td>\n",
       "      <td>2010-12-01 08:26:00</td>\n",
       "      <td>2.75</td>\n",
       "      <td>17850.0</td>\n",
       "      <td>United Kingdom</td>\n",
       "      <td>22.00</td>\n",
       "    </tr>\n",
       "    <tr>\n",
       "      <th>3</th>\n",
       "      <td>536365</td>\n",
       "      <td>84029G</td>\n",
       "      <td>KNITTED UNION FLAG HOT WATER BOTTLE</td>\n",
       "      <td>6</td>\n",
       "      <td>2010-12-01 08:26:00</td>\n",
       "      <td>3.39</td>\n",
       "      <td>17850.0</td>\n",
       "      <td>United Kingdom</td>\n",
       "      <td>20.34</td>\n",
       "    </tr>\n",
       "    <tr>\n",
       "      <th>4</th>\n",
       "      <td>536365</td>\n",
       "      <td>84029E</td>\n",
       "      <td>RED WOOLLY HOTTIE WHITE HEART.</td>\n",
       "      <td>6</td>\n",
       "      <td>2010-12-01 08:26:00</td>\n",
       "      <td>3.39</td>\n",
       "      <td>17850.0</td>\n",
       "      <td>United Kingdom</td>\n",
       "      <td>20.34</td>\n",
       "    </tr>\n",
       "  </tbody>\n",
       "</table>\n",
       "</div>"
      ],
      "text/plain": [
       "  InvoiceNo StockCode                          Description  Quantity  \\\n",
       "0    536365    85123A   WHITE HANGING HEART T-LIGHT HOLDER         6   \n",
       "1    536365     71053                  WHITE METAL LANTERN         6   \n",
       "2    536365    84406B       CREAM CUPID HEARTS COAT HANGER         8   \n",
       "3    536365    84029G  KNITTED UNION FLAG HOT WATER BOTTLE         6   \n",
       "4    536365    84029E       RED WOOLLY HOTTIE WHITE HEART.         6   \n",
       "\n",
       "          InvoiceDate  UnitPrice  CustomerID         Country  TotalAmount  \n",
       "0 2010-12-01 08:26:00       2.55     17850.0  United Kingdom        15.30  \n",
       "1 2010-12-01 08:26:00       3.39     17850.0  United Kingdom        20.34  \n",
       "2 2010-12-01 08:26:00       2.75     17850.0  United Kingdom        22.00  \n",
       "3 2010-12-01 08:26:00       3.39     17850.0  United Kingdom        20.34  \n",
       "4 2010-12-01 08:26:00       3.39     17850.0  United Kingdom        20.34  "
      ]
     },
     "execution_count": 20,
     "metadata": {},
     "output_type": "execute_result"
    }
   ],
   "source": [
    "data.head()"
   ]
  },
  {
   "cell_type": "code",
   "execution_count": 21,
   "metadata": {},
   "outputs": [],
   "source": [
    "reference_date=pd.Timestamp(dt.now().date())"
   ]
  },
  {
   "cell_type": "code",
   "execution_count": 22,
   "metadata": {},
   "outputs": [],
   "source": [
    "reference_date=data['InvoiceDate'].max()+timedelta(days=1)"
   ]
  },
  {
   "cell_type": "code",
   "execution_count": 23,
   "metadata": {},
   "outputs": [
    {
     "data": {
      "text/plain": [
       "Timestamp('2011-12-10 12:50:00')"
      ]
     },
     "execution_count": 23,
     "metadata": {},
     "output_type": "execute_result"
    }
   ],
   "source": [
    "reference_date"
   ]
  },
  {
   "cell_type": "code",
   "execution_count": 24,
   "metadata": {},
   "outputs": [],
   "source": [
    "rfm = data.groupby('CustomerID').agg({\n",
    "    'InvoiceDate': lambda x: (reference_date-x.max()).days,\n",
    "    'InvoiceNo' : 'count',\n",
    "    'TotalAmount': 'sum'\n",
    "})\n"
   ]
  },
  {
   "cell_type": "code",
   "execution_count": 25,
   "metadata": {},
   "outputs": [
    {
     "data": {
      "text/html": [
       "<div>\n",
       "<style scoped>\n",
       "    .dataframe tbody tr th:only-of-type {\n",
       "        vertical-align: middle;\n",
       "    }\n",
       "\n",
       "    .dataframe tbody tr th {\n",
       "        vertical-align: top;\n",
       "    }\n",
       "\n",
       "    .dataframe thead th {\n",
       "        text-align: right;\n",
       "    }\n",
       "</style>\n",
       "<table border=\"1\" class=\"dataframe\">\n",
       "  <thead>\n",
       "    <tr style=\"text-align: right;\">\n",
       "      <th></th>\n",
       "      <th>Recency</th>\n",
       "      <th>Frequency</th>\n",
       "      <th>Value</th>\n",
       "    </tr>\n",
       "    <tr>\n",
       "      <th>CustomerID</th>\n",
       "      <th></th>\n",
       "      <th></th>\n",
       "      <th></th>\n",
       "    </tr>\n",
       "  </thead>\n",
       "  <tbody>\n",
       "    <tr>\n",
       "      <th>12346.0</th>\n",
       "      <td>326</td>\n",
       "      <td>2</td>\n",
       "      <td>0.00</td>\n",
       "    </tr>\n",
       "    <tr>\n",
       "      <th>12347.0</th>\n",
       "      <td>2</td>\n",
       "      <td>182</td>\n",
       "      <td>4310.00</td>\n",
       "    </tr>\n",
       "    <tr>\n",
       "      <th>12348.0</th>\n",
       "      <td>75</td>\n",
       "      <td>31</td>\n",
       "      <td>1797.24</td>\n",
       "    </tr>\n",
       "    <tr>\n",
       "      <th>12349.0</th>\n",
       "      <td>19</td>\n",
       "      <td>73</td>\n",
       "      <td>1757.55</td>\n",
       "    </tr>\n",
       "    <tr>\n",
       "      <th>12350.0</th>\n",
       "      <td>310</td>\n",
       "      <td>17</td>\n",
       "      <td>334.40</td>\n",
       "    </tr>\n",
       "  </tbody>\n",
       "</table>\n",
       "</div>"
      ],
      "text/plain": [
       "            Recency  Frequency    Value\n",
       "CustomerID                             \n",
       "12346.0         326          2     0.00\n",
       "12347.0           2        182  4310.00\n",
       "12348.0          75         31  1797.24\n",
       "12349.0          19         73  1757.55\n",
       "12350.0         310         17   334.40"
      ]
     },
     "execution_count": 25,
     "metadata": {},
     "output_type": "execute_result"
    }
   ],
   "source": [
    "rfm.rename(columns={'InvoiceDate':'Recency', 'InvoiceNo': 'Frequency', 'TotalAmount':'Value'}, inplace=True)\n",
    "rfm.head()"
   ]
  },
  {
   "cell_type": "code",
   "execution_count": 28,
   "metadata": {},
   "outputs": [
    {
     "data": {
      "text/html": [
       "<div>\n",
       "<style scoped>\n",
       "    .dataframe tbody tr th:only-of-type {\n",
       "        vertical-align: middle;\n",
       "    }\n",
       "\n",
       "    .dataframe tbody tr th {\n",
       "        vertical-align: top;\n",
       "    }\n",
       "\n",
       "    .dataframe thead th {\n",
       "        text-align: right;\n",
       "    }\n",
       "</style>\n",
       "<table border=\"1\" class=\"dataframe\">\n",
       "  <thead>\n",
       "    <tr style=\"text-align: right;\">\n",
       "      <th></th>\n",
       "      <th>Recency</th>\n",
       "      <th>Frequency</th>\n",
       "      <th>Value</th>\n",
       "      <th>R</th>\n",
       "      <th>F</th>\n",
       "      <th>M</th>\n",
       "    </tr>\n",
       "    <tr>\n",
       "      <th>CustomerID</th>\n",
       "      <th></th>\n",
       "      <th></th>\n",
       "      <th></th>\n",
       "      <th></th>\n",
       "      <th></th>\n",
       "      <th></th>\n",
       "    </tr>\n",
       "  </thead>\n",
       "  <tbody>\n",
       "    <tr>\n",
       "      <th>12346.0</th>\n",
       "      <td>326</td>\n",
       "      <td>2</td>\n",
       "      <td>0.00</td>\n",
       "      <td>1</td>\n",
       "      <td>1</td>\n",
       "      <td>1</td>\n",
       "    </tr>\n",
       "    <tr>\n",
       "      <th>12347.0</th>\n",
       "      <td>2</td>\n",
       "      <td>182</td>\n",
       "      <td>4310.00</td>\n",
       "      <td>4</td>\n",
       "      <td>4</td>\n",
       "      <td>4</td>\n",
       "    </tr>\n",
       "    <tr>\n",
       "      <th>12348.0</th>\n",
       "      <td>75</td>\n",
       "      <td>31</td>\n",
       "      <td>1797.24</td>\n",
       "      <td>2</td>\n",
       "      <td>2</td>\n",
       "      <td>4</td>\n",
       "    </tr>\n",
       "    <tr>\n",
       "      <th>12349.0</th>\n",
       "      <td>19</td>\n",
       "      <td>73</td>\n",
       "      <td>1757.55</td>\n",
       "      <td>3</td>\n",
       "      <td>3</td>\n",
       "      <td>4</td>\n",
       "    </tr>\n",
       "    <tr>\n",
       "      <th>12350.0</th>\n",
       "      <td>310</td>\n",
       "      <td>17</td>\n",
       "      <td>334.40</td>\n",
       "      <td>1</td>\n",
       "      <td>1</td>\n",
       "      <td>2</td>\n",
       "    </tr>\n",
       "  </tbody>\n",
       "</table>\n",
       "</div>"
      ],
      "text/plain": [
       "            Recency  Frequency    Value  R  F  M\n",
       "CustomerID                                      \n",
       "12346.0         326          2     0.00  1  1  1\n",
       "12347.0           2        182  4310.00  4  4  4\n",
       "12348.0          75         31  1797.24  2  2  4\n",
       "12349.0          19         73  1757.55  3  3  4\n",
       "12350.0         310         17   334.40  1  1  2"
      ]
     },
     "execution_count": 28,
     "metadata": {},
     "output_type": "execute_result"
    }
   ],
   "source": [
    "# defining quantiles\n",
    "quantiles = rfm.quantile(q=[0.25,0.5,0.75])\n",
    "\n",
    "#Assigning RFM Scores\n",
    "def Rscore(x, p, d):\n",
    "    if p=='Recency':\n",
    "        if x <=d[p][0.25]:\n",
    "            return 4\n",
    "        elif x<=d[p][0.50]:\n",
    "            return 3\n",
    "        elif x<=d[p][0.75]:\n",
    "            return 2\n",
    "        else:\n",
    "            return 1\n",
    "    else:\n",
    "        if x <=d[p][0.25]:\n",
    "            return 1\n",
    "        elif x<=d[p][0.50]:\n",
    "            return 2\n",
    "        elif x<=d[p][0.75]:\n",
    "            return 3\n",
    "        else:\n",
    "            return 4\n",
    "        \n",
    "rfm['R']=rfm['Recency'].apply(Rscore, args=('Recency', quantiles,))\n",
    "rfm['F']=rfm['Frequency'].apply(Rscore, args=('Frequency', quantiles,))\n",
    "rfm['M']=rfm['Value'].apply(Rscore, args=('Value', quantiles,))\n",
    "\n",
    "rfm.head()"
   ]
  },
  {
   "cell_type": "code",
   "execution_count": 29,
   "metadata": {},
   "outputs": [],
   "source": [
    "#consolidated RFM scores\n",
    "rfm['RFM_Segment']=rfm['R'].astype(str)+rfm['F'].astype(str)+rfm['M'].astype(str)\n",
    "#RFM score=total score\n",
    "rfm['RFM_Score']=rfm[['R', 'F', 'M']].sum(axis=1)"
   ]
  },
  {
   "cell_type": "code",
   "execution_count": 30,
   "metadata": {},
   "outputs": [
    {
     "data": {
      "text/html": [
       "<div>\n",
       "<style scoped>\n",
       "    .dataframe tbody tr th:only-of-type {\n",
       "        vertical-align: middle;\n",
       "    }\n",
       "\n",
       "    .dataframe tbody tr th {\n",
       "        vertical-align: top;\n",
       "    }\n",
       "\n",
       "    .dataframe thead th {\n",
       "        text-align: right;\n",
       "    }\n",
       "</style>\n",
       "<table border=\"1\" class=\"dataframe\">\n",
       "  <thead>\n",
       "    <tr style=\"text-align: right;\">\n",
       "      <th></th>\n",
       "      <th>Recency</th>\n",
       "      <th>Frequency</th>\n",
       "      <th>Value</th>\n",
       "      <th>R</th>\n",
       "      <th>F</th>\n",
       "      <th>M</th>\n",
       "      <th>RFM_Segment</th>\n",
       "      <th>RFM_Score</th>\n",
       "    </tr>\n",
       "    <tr>\n",
       "      <th>CustomerID</th>\n",
       "      <th></th>\n",
       "      <th></th>\n",
       "      <th></th>\n",
       "      <th></th>\n",
       "      <th></th>\n",
       "      <th></th>\n",
       "      <th></th>\n",
       "      <th></th>\n",
       "    </tr>\n",
       "  </thead>\n",
       "  <tbody>\n",
       "    <tr>\n",
       "      <th>12346.0</th>\n",
       "      <td>326</td>\n",
       "      <td>2</td>\n",
       "      <td>0.00</td>\n",
       "      <td>1</td>\n",
       "      <td>1</td>\n",
       "      <td>1</td>\n",
       "      <td>111</td>\n",
       "      <td>3</td>\n",
       "    </tr>\n",
       "    <tr>\n",
       "      <th>12347.0</th>\n",
       "      <td>2</td>\n",
       "      <td>182</td>\n",
       "      <td>4310.00</td>\n",
       "      <td>4</td>\n",
       "      <td>4</td>\n",
       "      <td>4</td>\n",
       "      <td>444</td>\n",
       "      <td>12</td>\n",
       "    </tr>\n",
       "    <tr>\n",
       "      <th>12348.0</th>\n",
       "      <td>75</td>\n",
       "      <td>31</td>\n",
       "      <td>1797.24</td>\n",
       "      <td>2</td>\n",
       "      <td>2</td>\n",
       "      <td>4</td>\n",
       "      <td>224</td>\n",
       "      <td>8</td>\n",
       "    </tr>\n",
       "    <tr>\n",
       "      <th>12349.0</th>\n",
       "      <td>19</td>\n",
       "      <td>73</td>\n",
       "      <td>1757.55</td>\n",
       "      <td>3</td>\n",
       "      <td>3</td>\n",
       "      <td>4</td>\n",
       "      <td>334</td>\n",
       "      <td>10</td>\n",
       "    </tr>\n",
       "    <tr>\n",
       "      <th>12350.0</th>\n",
       "      <td>310</td>\n",
       "      <td>17</td>\n",
       "      <td>334.40</td>\n",
       "      <td>1</td>\n",
       "      <td>1</td>\n",
       "      <td>2</td>\n",
       "      <td>112</td>\n",
       "      <td>4</td>\n",
       "    </tr>\n",
       "  </tbody>\n",
       "</table>\n",
       "</div>"
      ],
      "text/plain": [
       "            Recency  Frequency    Value  R  F  M RFM_Segment  RFM_Score\n",
       "CustomerID                                                             \n",
       "12346.0         326          2     0.00  1  1  1         111          3\n",
       "12347.0           2        182  4310.00  4  4  4         444         12\n",
       "12348.0          75         31  1797.24  2  2  4         224          8\n",
       "12349.0          19         73  1757.55  3  3  4         334         10\n",
       "12350.0         310         17   334.40  1  1  2         112          4"
      ]
     },
     "execution_count": 30,
     "metadata": {},
     "output_type": "execute_result"
    }
   ],
   "source": [
    "rfm.head()"
   ]
  },
  {
   "cell_type": "code",
   "execution_count": 31,
   "metadata": {},
   "outputs": [
    {
     "data": {
      "text/html": [
       "<div>\n",
       "<style scoped>\n",
       "    .dataframe tbody tr th:only-of-type {\n",
       "        vertical-align: middle;\n",
       "    }\n",
       "\n",
       "    .dataframe tbody tr th {\n",
       "        vertical-align: top;\n",
       "    }\n",
       "\n",
       "    .dataframe thead th {\n",
       "        text-align: right;\n",
       "    }\n",
       "</style>\n",
       "<table border=\"1\" class=\"dataframe\">\n",
       "  <thead>\n",
       "    <tr style=\"text-align: right;\">\n",
       "      <th></th>\n",
       "      <th>Recency</th>\n",
       "      <th>Frequency</th>\n",
       "      <th>Value</th>\n",
       "      <th>R</th>\n",
       "      <th>F</th>\n",
       "      <th>M</th>\n",
       "      <th>RFM_Segment</th>\n",
       "      <th>RFM_Score</th>\n",
       "      <th>RFM_Segment_Label</th>\n",
       "    </tr>\n",
       "    <tr>\n",
       "      <th>CustomerID</th>\n",
       "      <th></th>\n",
       "      <th></th>\n",
       "      <th></th>\n",
       "      <th></th>\n",
       "      <th></th>\n",
       "      <th></th>\n",
       "      <th></th>\n",
       "      <th></th>\n",
       "      <th></th>\n",
       "    </tr>\n",
       "  </thead>\n",
       "  <tbody>\n",
       "    <tr>\n",
       "      <th>12346.0</th>\n",
       "      <td>326</td>\n",
       "      <td>2</td>\n",
       "      <td>0.00</td>\n",
       "      <td>1</td>\n",
       "      <td>1</td>\n",
       "      <td>1</td>\n",
       "      <td>111</td>\n",
       "      <td>3</td>\n",
       "      <td>Low_Value</td>\n",
       "    </tr>\n",
       "    <tr>\n",
       "      <th>12347.0</th>\n",
       "      <td>2</td>\n",
       "      <td>182</td>\n",
       "      <td>4310.00</td>\n",
       "      <td>4</td>\n",
       "      <td>4</td>\n",
       "      <td>4</td>\n",
       "      <td>444</td>\n",
       "      <td>12</td>\n",
       "      <td>High-Value</td>\n",
       "    </tr>\n",
       "    <tr>\n",
       "      <th>12348.0</th>\n",
       "      <td>75</td>\n",
       "      <td>31</td>\n",
       "      <td>1797.24</td>\n",
       "      <td>2</td>\n",
       "      <td>2</td>\n",
       "      <td>4</td>\n",
       "      <td>224</td>\n",
       "      <td>8</td>\n",
       "      <td>Mid_Value</td>\n",
       "    </tr>\n",
       "    <tr>\n",
       "      <th>12349.0</th>\n",
       "      <td>19</td>\n",
       "      <td>73</td>\n",
       "      <td>1757.55</td>\n",
       "      <td>3</td>\n",
       "      <td>3</td>\n",
       "      <td>4</td>\n",
       "      <td>334</td>\n",
       "      <td>10</td>\n",
       "      <td>High-Value</td>\n",
       "    </tr>\n",
       "    <tr>\n",
       "      <th>12350.0</th>\n",
       "      <td>310</td>\n",
       "      <td>17</td>\n",
       "      <td>334.40</td>\n",
       "      <td>1</td>\n",
       "      <td>1</td>\n",
       "      <td>2</td>\n",
       "      <td>112</td>\n",
       "      <td>4</td>\n",
       "      <td>Low_Value</td>\n",
       "    </tr>\n",
       "  </tbody>\n",
       "</table>\n",
       "</div>"
      ],
      "text/plain": [
       "            Recency  Frequency    Value  R  F  M RFM_Segment  RFM_Score  \\\n",
       "CustomerID                                                                \n",
       "12346.0         326          2     0.00  1  1  1         111          3   \n",
       "12347.0           2        182  4310.00  4  4  4         444         12   \n",
       "12348.0          75         31  1797.24  2  2  4         224          8   \n",
       "12349.0          19         73  1757.55  3  3  4         334         10   \n",
       "12350.0         310         17   334.40  1  1  2         112          4   \n",
       "\n",
       "           RFM_Segment_Label  \n",
       "CustomerID                    \n",
       "12346.0            Low_Value  \n",
       "12347.0           High-Value  \n",
       "12348.0            Mid_Value  \n",
       "12349.0           High-Value  \n",
       "12350.0            Low_Value  "
      ]
     },
     "execution_count": 31,
     "metadata": {},
     "output_type": "execute_result"
    }
   ],
   "source": [
    "# Segmenting the RFM scores\n",
    "segment_labels=['Low-Value', 'Mid-Value', 'High-Value']\n",
    "\n",
    "def assign_segment(score):\n",
    "    if score < 5:\n",
    "        return 'Low_Value'\n",
    "    elif score < 9:\n",
    "        return 'Mid_Value'\n",
    "    else:\n",
    "        return 'High-Value'\n",
    "\n",
    "rfm['RFM_Segment_Label']= rfm['RFM_Score'].apply(assign_segment)\n",
    "\n",
    "rfm.head()"
   ]
  },
  {
   "cell_type": "code",
   "execution_count": 42,
   "metadata": {},
   "outputs": [
    {
     "name": "stdout",
     "output_type": "stream",
     "text": [
      "  RFM_Segment  Count\n",
      "1  High-Value   1690\n",
      "2   Low_Value    783\n",
      "0   Mid_Value   1899\n"
     ]
    }
   ],
   "source": [
    "segment_counts=rfm['RFM_Segment_Label'].value_counts().reset_index()\n",
    "segment_counts.columns =['RFM_Segment', 'Count']\n",
    "segment_counts=segment_counts.sort_values('RFM_Segment')\n",
    "\n",
    "print(segment_counts)"
   ]
  },
  {
   "cell_type": "code",
   "execution_count": 45,
   "metadata": {},
   "outputs": [
    {
     "data": {
      "application/vnd.plotly.v1+json": {
       "config": {
        "plotlyServerURL": "https://plot.ly"
       },
       "data": [
        {
         "alignmentgroup": "True",
         "hovertemplate": "RFM Segment=%{x}<br>Number of Customers=%{y}<extra></extra>",
         "legendgroup": "High-Value",
         "marker": {
          "color": "rgb(102, 197, 204)",
          "pattern": {
           "shape": ""
          }
         },
         "name": "High-Value",
         "offsetgroup": "High-Value",
         "orientation": "v",
         "showlegend": true,
         "textposition": "auto",
         "type": "bar",
         "x": [
          "High-Value"
         ],
         "xaxis": "x",
         "y": [
          1690
         ],
         "yaxis": "y"
        },
        {
         "alignmentgroup": "True",
         "hovertemplate": "RFM Segment=%{x}<br>Number of Customers=%{y}<extra></extra>",
         "legendgroup": "Low_Value",
         "marker": {
          "color": "rgb(246, 207, 113)",
          "pattern": {
           "shape": ""
          }
         },
         "name": "Low_Value",
         "offsetgroup": "Low_Value",
         "orientation": "v",
         "showlegend": true,
         "textposition": "auto",
         "type": "bar",
         "x": [
          "Low_Value"
         ],
         "xaxis": "x",
         "y": [
          783
         ],
         "yaxis": "y"
        },
        {
         "alignmentgroup": "True",
         "hovertemplate": "RFM Segment=%{x}<br>Number of Customers=%{y}<extra></extra>",
         "legendgroup": "Mid_Value",
         "marker": {
          "color": "rgb(248, 156, 116)",
          "pattern": {
           "shape": ""
          }
         },
         "name": "Mid_Value",
         "offsetgroup": "Mid_Value",
         "orientation": "v",
         "showlegend": true,
         "textposition": "auto",
         "type": "bar",
         "x": [
          "Mid_Value"
         ],
         "xaxis": "x",
         "y": [
          1899
         ],
         "yaxis": "y"
        }
       ],
       "layout": {
        "barmode": "relative",
        "legend": {
         "title": {
          "text": "RFM Segment"
         },
         "tracegroupgap": 0
        },
        "template": {
         "data": {
          "bar": [
           {
            "error_x": {
             "color": "#2a3f5f"
            },
            "error_y": {
             "color": "#2a3f5f"
            },
            "marker": {
             "line": {
              "color": "#E5ECF6",
              "width": 0.5
             },
             "pattern": {
              "fillmode": "overlay",
              "size": 10,
              "solidity": 0.2
             }
            },
            "type": "bar"
           }
          ],
          "barpolar": [
           {
            "marker": {
             "line": {
              "color": "#E5ECF6",
              "width": 0.5
             },
             "pattern": {
              "fillmode": "overlay",
              "size": 10,
              "solidity": 0.2
             }
            },
            "type": "barpolar"
           }
          ],
          "carpet": [
           {
            "aaxis": {
             "endlinecolor": "#2a3f5f",
             "gridcolor": "white",
             "linecolor": "white",
             "minorgridcolor": "white",
             "startlinecolor": "#2a3f5f"
            },
            "baxis": {
             "endlinecolor": "#2a3f5f",
             "gridcolor": "white",
             "linecolor": "white",
             "minorgridcolor": "white",
             "startlinecolor": "#2a3f5f"
            },
            "type": "carpet"
           }
          ],
          "choropleth": [
           {
            "colorbar": {
             "outlinewidth": 0,
             "ticks": ""
            },
            "type": "choropleth"
           }
          ],
          "contour": [
           {
            "colorbar": {
             "outlinewidth": 0,
             "ticks": ""
            },
            "colorscale": [
             [
              0,
              "#0d0887"
             ],
             [
              0.1111111111111111,
              "#46039f"
             ],
             [
              0.2222222222222222,
              "#7201a8"
             ],
             [
              0.3333333333333333,
              "#9c179e"
             ],
             [
              0.4444444444444444,
              "#bd3786"
             ],
             [
              0.5555555555555556,
              "#d8576b"
             ],
             [
              0.6666666666666666,
              "#ed7953"
             ],
             [
              0.7777777777777778,
              "#fb9f3a"
             ],
             [
              0.8888888888888888,
              "#fdca26"
             ],
             [
              1,
              "#f0f921"
             ]
            ],
            "type": "contour"
           }
          ],
          "contourcarpet": [
           {
            "colorbar": {
             "outlinewidth": 0,
             "ticks": ""
            },
            "type": "contourcarpet"
           }
          ],
          "heatmap": [
           {
            "colorbar": {
             "outlinewidth": 0,
             "ticks": ""
            },
            "colorscale": [
             [
              0,
              "#0d0887"
             ],
             [
              0.1111111111111111,
              "#46039f"
             ],
             [
              0.2222222222222222,
              "#7201a8"
             ],
             [
              0.3333333333333333,
              "#9c179e"
             ],
             [
              0.4444444444444444,
              "#bd3786"
             ],
             [
              0.5555555555555556,
              "#d8576b"
             ],
             [
              0.6666666666666666,
              "#ed7953"
             ],
             [
              0.7777777777777778,
              "#fb9f3a"
             ],
             [
              0.8888888888888888,
              "#fdca26"
             ],
             [
              1,
              "#f0f921"
             ]
            ],
            "type": "heatmap"
           }
          ],
          "heatmapgl": [
           {
            "colorbar": {
             "outlinewidth": 0,
             "ticks": ""
            },
            "colorscale": [
             [
              0,
              "#0d0887"
             ],
             [
              0.1111111111111111,
              "#46039f"
             ],
             [
              0.2222222222222222,
              "#7201a8"
             ],
             [
              0.3333333333333333,
              "#9c179e"
             ],
             [
              0.4444444444444444,
              "#bd3786"
             ],
             [
              0.5555555555555556,
              "#d8576b"
             ],
             [
              0.6666666666666666,
              "#ed7953"
             ],
             [
              0.7777777777777778,
              "#fb9f3a"
             ],
             [
              0.8888888888888888,
              "#fdca26"
             ],
             [
              1,
              "#f0f921"
             ]
            ],
            "type": "heatmapgl"
           }
          ],
          "histogram": [
           {
            "marker": {
             "pattern": {
              "fillmode": "overlay",
              "size": 10,
              "solidity": 0.2
             }
            },
            "type": "histogram"
           }
          ],
          "histogram2d": [
           {
            "colorbar": {
             "outlinewidth": 0,
             "ticks": ""
            },
            "colorscale": [
             [
              0,
              "#0d0887"
             ],
             [
              0.1111111111111111,
              "#46039f"
             ],
             [
              0.2222222222222222,
              "#7201a8"
             ],
             [
              0.3333333333333333,
              "#9c179e"
             ],
             [
              0.4444444444444444,
              "#bd3786"
             ],
             [
              0.5555555555555556,
              "#d8576b"
             ],
             [
              0.6666666666666666,
              "#ed7953"
             ],
             [
              0.7777777777777778,
              "#fb9f3a"
             ],
             [
              0.8888888888888888,
              "#fdca26"
             ],
             [
              1,
              "#f0f921"
             ]
            ],
            "type": "histogram2d"
           }
          ],
          "histogram2dcontour": [
           {
            "colorbar": {
             "outlinewidth": 0,
             "ticks": ""
            },
            "colorscale": [
             [
              0,
              "#0d0887"
             ],
             [
              0.1111111111111111,
              "#46039f"
             ],
             [
              0.2222222222222222,
              "#7201a8"
             ],
             [
              0.3333333333333333,
              "#9c179e"
             ],
             [
              0.4444444444444444,
              "#bd3786"
             ],
             [
              0.5555555555555556,
              "#d8576b"
             ],
             [
              0.6666666666666666,
              "#ed7953"
             ],
             [
              0.7777777777777778,
              "#fb9f3a"
             ],
             [
              0.8888888888888888,
              "#fdca26"
             ],
             [
              1,
              "#f0f921"
             ]
            ],
            "type": "histogram2dcontour"
           }
          ],
          "mesh3d": [
           {
            "colorbar": {
             "outlinewidth": 0,
             "ticks": ""
            },
            "type": "mesh3d"
           }
          ],
          "parcoords": [
           {
            "line": {
             "colorbar": {
              "outlinewidth": 0,
              "ticks": ""
             }
            },
            "type": "parcoords"
           }
          ],
          "pie": [
           {
            "automargin": true,
            "type": "pie"
           }
          ],
          "scatter": [
           {
            "fillpattern": {
             "fillmode": "overlay",
             "size": 10,
             "solidity": 0.2
            },
            "type": "scatter"
           }
          ],
          "scatter3d": [
           {
            "line": {
             "colorbar": {
              "outlinewidth": 0,
              "ticks": ""
             }
            },
            "marker": {
             "colorbar": {
              "outlinewidth": 0,
              "ticks": ""
             }
            },
            "type": "scatter3d"
           }
          ],
          "scattercarpet": [
           {
            "marker": {
             "colorbar": {
              "outlinewidth": 0,
              "ticks": ""
             }
            },
            "type": "scattercarpet"
           }
          ],
          "scattergeo": [
           {
            "marker": {
             "colorbar": {
              "outlinewidth": 0,
              "ticks": ""
             }
            },
            "type": "scattergeo"
           }
          ],
          "scattergl": [
           {
            "marker": {
             "colorbar": {
              "outlinewidth": 0,
              "ticks": ""
             }
            },
            "type": "scattergl"
           }
          ],
          "scattermapbox": [
           {
            "marker": {
             "colorbar": {
              "outlinewidth": 0,
              "ticks": ""
             }
            },
            "type": "scattermapbox"
           }
          ],
          "scatterpolar": [
           {
            "marker": {
             "colorbar": {
              "outlinewidth": 0,
              "ticks": ""
             }
            },
            "type": "scatterpolar"
           }
          ],
          "scatterpolargl": [
           {
            "marker": {
             "colorbar": {
              "outlinewidth": 0,
              "ticks": ""
             }
            },
            "type": "scatterpolargl"
           }
          ],
          "scatterternary": [
           {
            "marker": {
             "colorbar": {
              "outlinewidth": 0,
              "ticks": ""
             }
            },
            "type": "scatterternary"
           }
          ],
          "surface": [
           {
            "colorbar": {
             "outlinewidth": 0,
             "ticks": ""
            },
            "colorscale": [
             [
              0,
              "#0d0887"
             ],
             [
              0.1111111111111111,
              "#46039f"
             ],
             [
              0.2222222222222222,
              "#7201a8"
             ],
             [
              0.3333333333333333,
              "#9c179e"
             ],
             [
              0.4444444444444444,
              "#bd3786"
             ],
             [
              0.5555555555555556,
              "#d8576b"
             ],
             [
              0.6666666666666666,
              "#ed7953"
             ],
             [
              0.7777777777777778,
              "#fb9f3a"
             ],
             [
              0.8888888888888888,
              "#fdca26"
             ],
             [
              1,
              "#f0f921"
             ]
            ],
            "type": "surface"
           }
          ],
          "table": [
           {
            "cells": {
             "fill": {
              "color": "#EBF0F8"
             },
             "line": {
              "color": "white"
             }
            },
            "header": {
             "fill": {
              "color": "#C8D4E3"
             },
             "line": {
              "color": "white"
             }
            },
            "type": "table"
           }
          ]
         },
         "layout": {
          "annotationdefaults": {
           "arrowcolor": "#2a3f5f",
           "arrowhead": 0,
           "arrowwidth": 1
          },
          "autotypenumbers": "strict",
          "coloraxis": {
           "colorbar": {
            "outlinewidth": 0,
            "ticks": ""
           }
          },
          "colorscale": {
           "diverging": [
            [
             0,
             "#8e0152"
            ],
            [
             0.1,
             "#c51b7d"
            ],
            [
             0.2,
             "#de77ae"
            ],
            [
             0.3,
             "#f1b6da"
            ],
            [
             0.4,
             "#fde0ef"
            ],
            [
             0.5,
             "#f7f7f7"
            ],
            [
             0.6,
             "#e6f5d0"
            ],
            [
             0.7,
             "#b8e186"
            ],
            [
             0.8,
             "#7fbc41"
            ],
            [
             0.9,
             "#4d9221"
            ],
            [
             1,
             "#276419"
            ]
           ],
           "sequential": [
            [
             0,
             "#0d0887"
            ],
            [
             0.1111111111111111,
             "#46039f"
            ],
            [
             0.2222222222222222,
             "#7201a8"
            ],
            [
             0.3333333333333333,
             "#9c179e"
            ],
            [
             0.4444444444444444,
             "#bd3786"
            ],
            [
             0.5555555555555556,
             "#d8576b"
            ],
            [
             0.6666666666666666,
             "#ed7953"
            ],
            [
             0.7777777777777778,
             "#fb9f3a"
            ],
            [
             0.8888888888888888,
             "#fdca26"
            ],
            [
             1,
             "#f0f921"
            ]
           ],
           "sequentialminus": [
            [
             0,
             "#0d0887"
            ],
            [
             0.1111111111111111,
             "#46039f"
            ],
            [
             0.2222222222222222,
             "#7201a8"
            ],
            [
             0.3333333333333333,
             "#9c179e"
            ],
            [
             0.4444444444444444,
             "#bd3786"
            ],
            [
             0.5555555555555556,
             "#d8576b"
            ],
            [
             0.6666666666666666,
             "#ed7953"
            ],
            [
             0.7777777777777778,
             "#fb9f3a"
            ],
            [
             0.8888888888888888,
             "#fdca26"
            ],
            [
             1,
             "#f0f921"
            ]
           ]
          },
          "colorway": [
           "#636efa",
           "#EF553B",
           "#00cc96",
           "#ab63fa",
           "#FFA15A",
           "#19d3f3",
           "#FF6692",
           "#B6E880",
           "#FF97FF",
           "#FECB52"
          ],
          "font": {
           "color": "#2a3f5f"
          },
          "geo": {
           "bgcolor": "white",
           "lakecolor": "white",
           "landcolor": "#E5ECF6",
           "showlakes": true,
           "showland": true,
           "subunitcolor": "white"
          },
          "hoverlabel": {
           "align": "left"
          },
          "hovermode": "closest",
          "mapbox": {
           "style": "light"
          },
          "paper_bgcolor": "white",
          "plot_bgcolor": "#E5ECF6",
          "polar": {
           "angularaxis": {
            "gridcolor": "white",
            "linecolor": "white",
            "ticks": ""
           },
           "bgcolor": "#E5ECF6",
           "radialaxis": {
            "gridcolor": "white",
            "linecolor": "white",
            "ticks": ""
           }
          },
          "scene": {
           "xaxis": {
            "backgroundcolor": "#E5ECF6",
            "gridcolor": "white",
            "gridwidth": 2,
            "linecolor": "white",
            "showbackground": true,
            "ticks": "",
            "zerolinecolor": "white"
           },
           "yaxis": {
            "backgroundcolor": "#E5ECF6",
            "gridcolor": "white",
            "gridwidth": 2,
            "linecolor": "white",
            "showbackground": true,
            "ticks": "",
            "zerolinecolor": "white"
           },
           "zaxis": {
            "backgroundcolor": "#E5ECF6",
            "gridcolor": "white",
            "gridwidth": 2,
            "linecolor": "white",
            "showbackground": true,
            "ticks": "",
            "zerolinecolor": "white"
           }
          },
          "shapedefaults": {
           "line": {
            "color": "#2a3f5f"
           }
          },
          "ternary": {
           "aaxis": {
            "gridcolor": "white",
            "linecolor": "white",
            "ticks": ""
           },
           "baxis": {
            "gridcolor": "white",
            "linecolor": "white",
            "ticks": ""
           },
           "bgcolor": "#E5ECF6",
           "caxis": {
            "gridcolor": "white",
            "linecolor": "white",
            "ticks": ""
           }
          },
          "title": {
           "x": 0.05
          },
          "xaxis": {
           "automargin": true,
           "gridcolor": "white",
           "linecolor": "white",
           "ticks": "",
           "title": {
            "standoff": 15
           },
           "zerolinecolor": "white",
           "zerolinewidth": 2
          },
          "yaxis": {
           "automargin": true,
           "gridcolor": "white",
           "linecolor": "white",
           "ticks": "",
           "title": {
            "standoff": 15
           },
           "zerolinecolor": "white",
           "zerolinewidth": 2
          }
         }
        },
        "title": {
         "text": "Customer Distribution by RFM Segment"
        },
        "xaxis": {
         "anchor": "y",
         "categoryarray": [
          "High-Value",
          "Low_Value",
          "Mid_Value"
         ],
         "categoryorder": "array",
         "domain": [
          0,
          1
         ],
         "title": {
          "text": "RFM Segment"
         }
        },
        "yaxis": {
         "anchor": "x",
         "domain": [
          0,
          1
         ],
         "title": {
          "text": "Number of Customers"
         }
        }
       }
      }
     },
     "metadata": {},
     "output_type": "display_data"
    }
   ],
   "source": [
    "#bar chart using PLotly\n",
    "fig = px.bar(segment_counts,\n",
    "             x='RFM_Segment',\n",
    "             y='Count',\n",
    "             title='Customer Distribution by RFM Segment',\n",
    "             labels= {'RFM_Segment': 'RFM Segment', 'Count': 'Number of Customers'},\n",
    "             color='RFM_Segment',\n",
    "             color_discrete_sequence=px.colors.qualitative.Pastel)\n",
    "fig.show()"
   ]
  },
  {
   "cell_type": "code",
   "execution_count": 51,
   "metadata": {},
   "outputs": [],
   "source": [
    "rfm['RFM_Customer_Segments']=''\n",
    "rfm.loc[rfm['RFM_Score']>=9, 'RFM_Customer_Segments']='SuperLoyal'\n",
    "rfm.loc[(rfm['RFM_Score']>=6) & (rfm['RFM_Score']<9),'RFM_Customer_Segments']='Potential Loyal'\n",
    "rfm.loc[(rfm['RFM_Score']>=5) & (rfm['RFM_Score']<6),'RFM_Customer_Segments']='At Risk Customers'\n",
    "rfm.loc[(rfm['RFM_Score']>=4) & (rfm['RFM_Score']<5),'RFM_Customer_Segments']=\"Can't lose\"\n",
    "rfm.loc[(rfm['RFM_Score']>=3) & (rfm['RFM_Score']<4),'RFM_Customer_Segments']=\"Lost\"\n",
    "segment_counts=rfm['RFM_Customer_Segments'].value_counts().sort_index()"
   ]
  },
  {
   "cell_type": "code",
   "execution_count": 54,
   "metadata": {},
   "outputs": [],
   "source": [
    "segment_product_counts=rfm.groupby(['RFM_Segment_Label', 'RFM_Customer_Segments']).size().reset_index(name='Count')\n",
    "\n",
    "segment_product_counts=segment_product_counts.sort_values('Count', ascending=False)"
   ]
  },
  {
   "cell_type": "code",
   "execution_count": 55,
   "metadata": {},
   "outputs": [
    {
     "data": {
      "application/vnd.plotly.v1+json": {
       "config": {
        "plotlyServerURL": "https://plot.ly"
       },
       "data": [
        {
         "branchvalues": "total",
         "customdata": [
          [
           "Mid_Value"
          ],
          [
           "Mid_Value"
          ],
          [
           "High-Value"
          ],
          [
           "Low_Value"
          ],
          [
           "Low_Value"
          ],
          [
           "High-Value"
          ],
          [
           "Low_Value"
          ],
          [
           "Mid_Value"
          ]
         ],
         "domain": {
          "x": [
           0,
           1
          ],
          "y": [
           0,
           1
          ]
         },
         "hovertemplate": "labels=%{label}<br>Count=%{value}<br>parent=%{parent}<br>id=%{id}<br>RFM_Segment_Label=%{customdata[0]}<extra></extra>",
         "ids": [
          "Mid_Value/At Risk Customers",
          "Mid_Value/Potential Loyal",
          "High-Value/SuperLoyal",
          "Low_Value/Can't lose",
          "Low_Value/Lost",
          "High-Value",
          "Low_Value",
          "Mid_Value"
         ],
         "labels": [
          "At Risk Customers",
          "Potential Loyal",
          "SuperLoyal",
          "Can't lose",
          "Lost",
          "High-Value",
          "Low_Value",
          "Mid_Value"
         ],
         "marker": {
          "colors": [
           "rgb(102, 197, 204)",
           "rgb(102, 197, 204)",
           "rgb(246, 207, 113)",
           "rgb(248, 156, 116)",
           "rgb(248, 156, 116)",
           "rgb(246, 207, 113)",
           "rgb(248, 156, 116)",
           "rgb(102, 197, 204)"
          ]
         },
         "name": "",
         "parents": [
          "Mid_Value",
          "Mid_Value",
          "High-Value",
          "Low_Value",
          "Low_Value",
          "",
          "",
          ""
         ],
         "type": "treemap",
         "values": [
          517,
          1382,
          1690,
          391,
          392,
          1690,
          783,
          1899
         ]
        }
       ],
       "layout": {
        "legend": {
         "tracegroupgap": 0
        },
        "template": {
         "data": {
          "bar": [
           {
            "error_x": {
             "color": "#2a3f5f"
            },
            "error_y": {
             "color": "#2a3f5f"
            },
            "marker": {
             "line": {
              "color": "#E5ECF6",
              "width": 0.5
             },
             "pattern": {
              "fillmode": "overlay",
              "size": 10,
              "solidity": 0.2
             }
            },
            "type": "bar"
           }
          ],
          "barpolar": [
           {
            "marker": {
             "line": {
              "color": "#E5ECF6",
              "width": 0.5
             },
             "pattern": {
              "fillmode": "overlay",
              "size": 10,
              "solidity": 0.2
             }
            },
            "type": "barpolar"
           }
          ],
          "carpet": [
           {
            "aaxis": {
             "endlinecolor": "#2a3f5f",
             "gridcolor": "white",
             "linecolor": "white",
             "minorgridcolor": "white",
             "startlinecolor": "#2a3f5f"
            },
            "baxis": {
             "endlinecolor": "#2a3f5f",
             "gridcolor": "white",
             "linecolor": "white",
             "minorgridcolor": "white",
             "startlinecolor": "#2a3f5f"
            },
            "type": "carpet"
           }
          ],
          "choropleth": [
           {
            "colorbar": {
             "outlinewidth": 0,
             "ticks": ""
            },
            "type": "choropleth"
           }
          ],
          "contour": [
           {
            "colorbar": {
             "outlinewidth": 0,
             "ticks": ""
            },
            "colorscale": [
             [
              0,
              "#0d0887"
             ],
             [
              0.1111111111111111,
              "#46039f"
             ],
             [
              0.2222222222222222,
              "#7201a8"
             ],
             [
              0.3333333333333333,
              "#9c179e"
             ],
             [
              0.4444444444444444,
              "#bd3786"
             ],
             [
              0.5555555555555556,
              "#d8576b"
             ],
             [
              0.6666666666666666,
              "#ed7953"
             ],
             [
              0.7777777777777778,
              "#fb9f3a"
             ],
             [
              0.8888888888888888,
              "#fdca26"
             ],
             [
              1,
              "#f0f921"
             ]
            ],
            "type": "contour"
           }
          ],
          "contourcarpet": [
           {
            "colorbar": {
             "outlinewidth": 0,
             "ticks": ""
            },
            "type": "contourcarpet"
           }
          ],
          "heatmap": [
           {
            "colorbar": {
             "outlinewidth": 0,
             "ticks": ""
            },
            "colorscale": [
             [
              0,
              "#0d0887"
             ],
             [
              0.1111111111111111,
              "#46039f"
             ],
             [
              0.2222222222222222,
              "#7201a8"
             ],
             [
              0.3333333333333333,
              "#9c179e"
             ],
             [
              0.4444444444444444,
              "#bd3786"
             ],
             [
              0.5555555555555556,
              "#d8576b"
             ],
             [
              0.6666666666666666,
              "#ed7953"
             ],
             [
              0.7777777777777778,
              "#fb9f3a"
             ],
             [
              0.8888888888888888,
              "#fdca26"
             ],
             [
              1,
              "#f0f921"
             ]
            ],
            "type": "heatmap"
           }
          ],
          "heatmapgl": [
           {
            "colorbar": {
             "outlinewidth": 0,
             "ticks": ""
            },
            "colorscale": [
             [
              0,
              "#0d0887"
             ],
             [
              0.1111111111111111,
              "#46039f"
             ],
             [
              0.2222222222222222,
              "#7201a8"
             ],
             [
              0.3333333333333333,
              "#9c179e"
             ],
             [
              0.4444444444444444,
              "#bd3786"
             ],
             [
              0.5555555555555556,
              "#d8576b"
             ],
             [
              0.6666666666666666,
              "#ed7953"
             ],
             [
              0.7777777777777778,
              "#fb9f3a"
             ],
             [
              0.8888888888888888,
              "#fdca26"
             ],
             [
              1,
              "#f0f921"
             ]
            ],
            "type": "heatmapgl"
           }
          ],
          "histogram": [
           {
            "marker": {
             "pattern": {
              "fillmode": "overlay",
              "size": 10,
              "solidity": 0.2
             }
            },
            "type": "histogram"
           }
          ],
          "histogram2d": [
           {
            "colorbar": {
             "outlinewidth": 0,
             "ticks": ""
            },
            "colorscale": [
             [
              0,
              "#0d0887"
             ],
             [
              0.1111111111111111,
              "#46039f"
             ],
             [
              0.2222222222222222,
              "#7201a8"
             ],
             [
              0.3333333333333333,
              "#9c179e"
             ],
             [
              0.4444444444444444,
              "#bd3786"
             ],
             [
              0.5555555555555556,
              "#d8576b"
             ],
             [
              0.6666666666666666,
              "#ed7953"
             ],
             [
              0.7777777777777778,
              "#fb9f3a"
             ],
             [
              0.8888888888888888,
              "#fdca26"
             ],
             [
              1,
              "#f0f921"
             ]
            ],
            "type": "histogram2d"
           }
          ],
          "histogram2dcontour": [
           {
            "colorbar": {
             "outlinewidth": 0,
             "ticks": ""
            },
            "colorscale": [
             [
              0,
              "#0d0887"
             ],
             [
              0.1111111111111111,
              "#46039f"
             ],
             [
              0.2222222222222222,
              "#7201a8"
             ],
             [
              0.3333333333333333,
              "#9c179e"
             ],
             [
              0.4444444444444444,
              "#bd3786"
             ],
             [
              0.5555555555555556,
              "#d8576b"
             ],
             [
              0.6666666666666666,
              "#ed7953"
             ],
             [
              0.7777777777777778,
              "#fb9f3a"
             ],
             [
              0.8888888888888888,
              "#fdca26"
             ],
             [
              1,
              "#f0f921"
             ]
            ],
            "type": "histogram2dcontour"
           }
          ],
          "mesh3d": [
           {
            "colorbar": {
             "outlinewidth": 0,
             "ticks": ""
            },
            "type": "mesh3d"
           }
          ],
          "parcoords": [
           {
            "line": {
             "colorbar": {
              "outlinewidth": 0,
              "ticks": ""
             }
            },
            "type": "parcoords"
           }
          ],
          "pie": [
           {
            "automargin": true,
            "type": "pie"
           }
          ],
          "scatter": [
           {
            "fillpattern": {
             "fillmode": "overlay",
             "size": 10,
             "solidity": 0.2
            },
            "type": "scatter"
           }
          ],
          "scatter3d": [
           {
            "line": {
             "colorbar": {
              "outlinewidth": 0,
              "ticks": ""
             }
            },
            "marker": {
             "colorbar": {
              "outlinewidth": 0,
              "ticks": ""
             }
            },
            "type": "scatter3d"
           }
          ],
          "scattercarpet": [
           {
            "marker": {
             "colorbar": {
              "outlinewidth": 0,
              "ticks": ""
             }
            },
            "type": "scattercarpet"
           }
          ],
          "scattergeo": [
           {
            "marker": {
             "colorbar": {
              "outlinewidth": 0,
              "ticks": ""
             }
            },
            "type": "scattergeo"
           }
          ],
          "scattergl": [
           {
            "marker": {
             "colorbar": {
              "outlinewidth": 0,
              "ticks": ""
             }
            },
            "type": "scattergl"
           }
          ],
          "scattermapbox": [
           {
            "marker": {
             "colorbar": {
              "outlinewidth": 0,
              "ticks": ""
             }
            },
            "type": "scattermapbox"
           }
          ],
          "scatterpolar": [
           {
            "marker": {
             "colorbar": {
              "outlinewidth": 0,
              "ticks": ""
             }
            },
            "type": "scatterpolar"
           }
          ],
          "scatterpolargl": [
           {
            "marker": {
             "colorbar": {
              "outlinewidth": 0,
              "ticks": ""
             }
            },
            "type": "scatterpolargl"
           }
          ],
          "scatterternary": [
           {
            "marker": {
             "colorbar": {
              "outlinewidth": 0,
              "ticks": ""
             }
            },
            "type": "scatterternary"
           }
          ],
          "surface": [
           {
            "colorbar": {
             "outlinewidth": 0,
             "ticks": ""
            },
            "colorscale": [
             [
              0,
              "#0d0887"
             ],
             [
              0.1111111111111111,
              "#46039f"
             ],
             [
              0.2222222222222222,
              "#7201a8"
             ],
             [
              0.3333333333333333,
              "#9c179e"
             ],
             [
              0.4444444444444444,
              "#bd3786"
             ],
             [
              0.5555555555555556,
              "#d8576b"
             ],
             [
              0.6666666666666666,
              "#ed7953"
             ],
             [
              0.7777777777777778,
              "#fb9f3a"
             ],
             [
              0.8888888888888888,
              "#fdca26"
             ],
             [
              1,
              "#f0f921"
             ]
            ],
            "type": "surface"
           }
          ],
          "table": [
           {
            "cells": {
             "fill": {
              "color": "#EBF0F8"
             },
             "line": {
              "color": "white"
             }
            },
            "header": {
             "fill": {
              "color": "#C8D4E3"
             },
             "line": {
              "color": "white"
             }
            },
            "type": "table"
           }
          ]
         },
         "layout": {
          "annotationdefaults": {
           "arrowcolor": "#2a3f5f",
           "arrowhead": 0,
           "arrowwidth": 1
          },
          "autotypenumbers": "strict",
          "coloraxis": {
           "colorbar": {
            "outlinewidth": 0,
            "ticks": ""
           }
          },
          "colorscale": {
           "diverging": [
            [
             0,
             "#8e0152"
            ],
            [
             0.1,
             "#c51b7d"
            ],
            [
             0.2,
             "#de77ae"
            ],
            [
             0.3,
             "#f1b6da"
            ],
            [
             0.4,
             "#fde0ef"
            ],
            [
             0.5,
             "#f7f7f7"
            ],
            [
             0.6,
             "#e6f5d0"
            ],
            [
             0.7,
             "#b8e186"
            ],
            [
             0.8,
             "#7fbc41"
            ],
            [
             0.9,
             "#4d9221"
            ],
            [
             1,
             "#276419"
            ]
           ],
           "sequential": [
            [
             0,
             "#0d0887"
            ],
            [
             0.1111111111111111,
             "#46039f"
            ],
            [
             0.2222222222222222,
             "#7201a8"
            ],
            [
             0.3333333333333333,
             "#9c179e"
            ],
            [
             0.4444444444444444,
             "#bd3786"
            ],
            [
             0.5555555555555556,
             "#d8576b"
            ],
            [
             0.6666666666666666,
             "#ed7953"
            ],
            [
             0.7777777777777778,
             "#fb9f3a"
            ],
            [
             0.8888888888888888,
             "#fdca26"
            ],
            [
             1,
             "#f0f921"
            ]
           ],
           "sequentialminus": [
            [
             0,
             "#0d0887"
            ],
            [
             0.1111111111111111,
             "#46039f"
            ],
            [
             0.2222222222222222,
             "#7201a8"
            ],
            [
             0.3333333333333333,
             "#9c179e"
            ],
            [
             0.4444444444444444,
             "#bd3786"
            ],
            [
             0.5555555555555556,
             "#d8576b"
            ],
            [
             0.6666666666666666,
             "#ed7953"
            ],
            [
             0.7777777777777778,
             "#fb9f3a"
            ],
            [
             0.8888888888888888,
             "#fdca26"
            ],
            [
             1,
             "#f0f921"
            ]
           ]
          },
          "colorway": [
           "#636efa",
           "#EF553B",
           "#00cc96",
           "#ab63fa",
           "#FFA15A",
           "#19d3f3",
           "#FF6692",
           "#B6E880",
           "#FF97FF",
           "#FECB52"
          ],
          "font": {
           "color": "#2a3f5f"
          },
          "geo": {
           "bgcolor": "white",
           "lakecolor": "white",
           "landcolor": "#E5ECF6",
           "showlakes": true,
           "showland": true,
           "subunitcolor": "white"
          },
          "hoverlabel": {
           "align": "left"
          },
          "hovermode": "closest",
          "mapbox": {
           "style": "light"
          },
          "paper_bgcolor": "white",
          "plot_bgcolor": "#E5ECF6",
          "polar": {
           "angularaxis": {
            "gridcolor": "white",
            "linecolor": "white",
            "ticks": ""
           },
           "bgcolor": "#E5ECF6",
           "radialaxis": {
            "gridcolor": "white",
            "linecolor": "white",
            "ticks": ""
           }
          },
          "scene": {
           "xaxis": {
            "backgroundcolor": "#E5ECF6",
            "gridcolor": "white",
            "gridwidth": 2,
            "linecolor": "white",
            "showbackground": true,
            "ticks": "",
            "zerolinecolor": "white"
           },
           "yaxis": {
            "backgroundcolor": "#E5ECF6",
            "gridcolor": "white",
            "gridwidth": 2,
            "linecolor": "white",
            "showbackground": true,
            "ticks": "",
            "zerolinecolor": "white"
           },
           "zaxis": {
            "backgroundcolor": "#E5ECF6",
            "gridcolor": "white",
            "gridwidth": 2,
            "linecolor": "white",
            "showbackground": true,
            "ticks": "",
            "zerolinecolor": "white"
           }
          },
          "shapedefaults": {
           "line": {
            "color": "#2a3f5f"
           }
          },
          "ternary": {
           "aaxis": {
            "gridcolor": "white",
            "linecolor": "white",
            "ticks": ""
           },
           "baxis": {
            "gridcolor": "white",
            "linecolor": "white",
            "ticks": ""
           },
           "bgcolor": "#E5ECF6",
           "caxis": {
            "gridcolor": "white",
            "linecolor": "white",
            "ticks": ""
           }
          },
          "title": {
           "x": 0.05
          },
          "xaxis": {
           "automargin": true,
           "gridcolor": "white",
           "linecolor": "white",
           "ticks": "",
           "title": {
            "standoff": 15
           },
           "zerolinecolor": "white",
           "zerolinewidth": 2
          },
          "yaxis": {
           "automargin": true,
           "gridcolor": "white",
           "linecolor": "white",
           "ticks": "",
           "title": {
            "standoff": 15
           },
           "zerolinecolor": "white",
           "zerolinewidth": 2
          }
         }
        },
        "title": {
         "text": "RFM Customer Segments by Value"
        },
        "treemapcolorway": [
         "rgb(102, 197, 204)",
         "rgb(246, 207, 113)",
         "rgb(248, 156, 116)",
         "rgb(220, 176, 242)",
         "rgb(135, 197, 95)",
         "rgb(158, 185, 243)",
         "rgb(254, 136, 177)",
         "rgb(201, 219, 116)",
         "rgb(139, 224, 164)",
         "rgb(180, 151, 231)",
         "rgb(179, 179, 179)"
        ]
       }
      }
     },
     "metadata": {},
     "output_type": "display_data"
    }
   ],
   "source": [
    "fig_treemap = px.treemap(segment_product_counts,\n",
    "             path=['RFM_Segment_Label','RFM_Customer_Segments'],\n",
    "             values='Count',\n",
    "             color='RFM_Segment_Label',\n",
    "             color_discrete_sequence=px.colors.qualitative.Pastel,\n",
    "             title='RFM Customer Segments by Value')\n",
    "fig_treemap.show()"
   ]
  },
  {
   "cell_type": "code",
   "execution_count": 57,
   "metadata": {},
   "outputs": [],
   "source": [
    "#For Recency, Frequency anbd Monetary Value for the Super Loyal Customers\n",
    "SuperLoyal_segment=rfm[rfm['RFM_Customer_Segments'] =='SuperLoyal']"
   ]
  },
  {
   "cell_type": "code",
   "execution_count": 58,
   "metadata": {},
   "outputs": [
    {
     "data": {
      "application/vnd.plotly.v1+json": {
       "config": {
        "plotlyServerURL": "https://plot.ly"
       },
       "data": [
        {
         "name": "Recency",
         "type": "box",
         "y": [
          2,
          19,
          36,
          23,
          33,
          2,
          8,
          52,
          3,
          8,
          51,
          45,
          130,
          22,
          5,
          16,
          16,
          36,
          46,
          22,
          50,
          33,
          79,
          24,
          3,
          16,
          1,
          12,
          26,
          9,
          36,
          43,
          1,
          2,
          14,
          21,
          22,
          11,
          73,
          44,
          58,
          2,
          46,
          10,
          8,
          2,
          31,
          29,
          17,
          1,
          23,
          4,
          28,
          23,
          17,
          33,
          10,
          5,
          10,
          23,
          315,
          96,
          28,
          1,
          79,
          2,
          9,
          1,
          9,
          60,
          8,
          22,
          20,
          30,
          47,
          8,
          50,
          16,
          5,
          8,
          23,
          2,
          9,
          36,
          35,
          21,
          3,
          4,
          38,
          19,
          10,
          29,
          29,
          23,
          31,
          2,
          16,
          15,
          2,
          23,
          11,
          4,
          10,
          59,
          90,
          67,
          24,
          25,
          34,
          5,
          22,
          17,
          11,
          1,
          8,
          7,
          10,
          12,
          25,
          42,
          1,
          15,
          4,
          4,
          8,
          28,
          114,
          26,
          21,
          8,
          7,
          15,
          30,
          3,
          23,
          1,
          9,
          4,
          3,
          32,
          4,
          5,
          28,
          11,
          24,
          52,
          2,
          1,
          4,
          81,
          4,
          16,
          117,
          8,
          4,
          17,
          20,
          21,
          5,
          2,
          9,
          10,
          3,
          3,
          3,
          38,
          59,
          34,
          3,
          144,
          5,
          66,
          22,
          31,
          108,
          79,
          8,
          26,
          26,
          58,
          4,
          18,
          9,
          12,
          40,
          23,
          3,
          5,
          139,
          8,
          4,
          5,
          35,
          22,
          24,
          2,
          17,
          15,
          64,
          46,
          16,
          31,
          2,
          9,
          6,
          1,
          4,
          8,
          89,
          3,
          7,
          4,
          1,
          3,
          4,
          22,
          4,
          12,
          9,
          1,
          3,
          53,
          16,
          4,
          1,
          23,
          11,
          39,
          9,
          32,
          14,
          9,
          13,
          1,
          1,
          1,
          1,
          126,
          3,
          9,
          267,
          21,
          33,
          1,
          1,
          3,
          44,
          3,
          31,
          1,
          9,
          22,
          20,
          90,
          5,
          23,
          73,
          50,
          11,
          22,
          16,
          85,
          29,
          14,
          33,
          49,
          9,
          122,
          19,
          36,
          8,
          4,
          16,
          26,
          8,
          15,
          40,
          11,
          10,
          4,
          19,
          10,
          59,
          30,
          10,
          9,
          60,
          3,
          4,
          13,
          11,
          18,
          12,
          1,
          53,
          11,
          3,
          18,
          1,
          23,
          8,
          4,
          23,
          7,
          9,
          22,
          2,
          37,
          64,
          5,
          70,
          3,
          32,
          39,
          82,
          45,
          68,
          16,
          3,
          18,
          9,
          61,
          21,
          31,
          11,
          2,
          22,
          2,
          9,
          12,
          40,
          51,
          108,
          1,
          11,
          19,
          5,
          14,
          23,
          17,
          27,
          26,
          25,
          18,
          7,
          11,
          2,
          1,
          38,
          46,
          17,
          8,
          18,
          23,
          68,
          3,
          9,
          1,
          21,
          60,
          59,
          1,
          33,
          34,
          2,
          1,
          12,
          96,
          26,
          66,
          74,
          6,
          82,
          41,
          17,
          13,
          23,
          10,
          25,
          16,
          11,
          108,
          6,
          1,
          45,
          40,
          12,
          24,
          31,
          59,
          23,
          5,
          25,
          33,
          37,
          9,
          10,
          17,
          46,
          43,
          10,
          3,
          1,
          18,
          3,
          25,
          4,
          31,
          26,
          5,
          8,
          4,
          32,
          15,
          120,
          50,
          37,
          25,
          5,
          17,
          3,
          4,
          2,
          12,
          50,
          71,
          2,
          2,
          64,
          34,
          1,
          7,
          13,
          10,
          4,
          1,
          138,
          31,
          6,
          40,
          22,
          6,
          33,
          16,
          25,
          6,
          59,
          25,
          96,
          9,
          9,
          1,
          18,
          31,
          7,
          123,
          2,
          23,
          54,
          21,
          4,
          3,
          1,
          7,
          1,
          21,
          72,
          80,
          57,
          2,
          17,
          22,
          3,
          11,
          211,
          7,
          5,
          7,
          9,
          31,
          39,
          30,
          4,
          20,
          12,
          32,
          4,
          15,
          10,
          46,
          43,
          10,
          154,
          47,
          18,
          7,
          2,
          29,
          41,
          27,
          9,
          17,
          32,
          1,
          1,
          24,
          5,
          10,
          29,
          4,
          5,
          4,
          2,
          10,
          8,
          12,
          4,
          16,
          5,
          52,
          4,
          23,
          4,
          20,
          4,
          11,
          2,
          2,
          2,
          2,
          4,
          3,
          9,
          10,
          20,
          87,
          51,
          9,
          41,
          11,
          9,
          2,
          2,
          5,
          4,
          11,
          91,
          53,
          31,
          12,
          3,
          2,
          42,
          110,
          29,
          26,
          32,
          22,
          10,
          43,
          9,
          176,
          7,
          2,
          51,
          9,
          8,
          15,
          3,
          21,
          24,
          9,
          11,
          2,
          8,
          3,
          18,
          3,
          8,
          71,
          89,
          8,
          47,
          21,
          11,
          9,
          17,
          16,
          17,
          45,
          19,
          32,
          109,
          8,
          26,
          38,
          33,
          9,
          9,
          10,
          2,
          1,
          4,
          34,
          107,
          11,
          71,
          16,
          35,
          1,
          4,
          11,
          1,
          19,
          7,
          10,
          8,
          1,
          2,
          1,
          19,
          19,
          60,
          5,
          148,
          64,
          29,
          12,
          104,
          18,
          27,
          7,
          43,
          26,
          20,
          3,
          47,
          17,
          17,
          24,
          11,
          18,
          32,
          9,
          3,
          26,
          25,
          3,
          59,
          10,
          59,
          4,
          24,
          4,
          4,
          11,
          19,
          10,
          7,
          4,
          96,
          3,
          13,
          6,
          19,
          15,
          35,
          22,
          7,
          20,
          11,
          1,
          16,
          4,
          1,
          32,
          9,
          4,
          52,
          16,
          9,
          2,
          5,
          1,
          4,
          18,
          9,
          29,
          61,
          11,
          3,
          16,
          31,
          25,
          26,
          8,
          31,
          4,
          2,
          32,
          11,
          1,
          11,
          3,
          15,
          14,
          10,
          9,
          25,
          2,
          6,
          10,
          25,
          1,
          8,
          9,
          4,
          39,
          2,
          12,
          16,
          29,
          10,
          15,
          5,
          8,
          3,
          51,
          7,
          17,
          3,
          1,
          48,
          15,
          40,
          41,
          37,
          10,
          4,
          18,
          90,
          53,
          35,
          64,
          22,
          58,
          78,
          36,
          13,
          26,
          11,
          3,
          4,
          3,
          9,
          13,
          19,
          10,
          8,
          8,
          23,
          11,
          21,
          2,
          3,
          1,
          17,
          36,
          30,
          109,
          5,
          73,
          9,
          30,
          23,
          46,
          12,
          11,
          10,
          35,
          72,
          116,
          16,
          12,
          9,
          12,
          3,
          10,
          8,
          4,
          5,
          16,
          43,
          10,
          19,
          9,
          25,
          23,
          5,
          12,
          25,
          41,
          8,
          4,
          38,
          32,
          78,
          46,
          10,
          7,
          21,
          10,
          18,
          18,
          18,
          29,
          10,
          30,
          18,
          15,
          85,
          7,
          25,
          60,
          50,
          18,
          15,
          3,
          52,
          8,
          4,
          17,
          10,
          1,
          4,
          2,
          69,
          9,
          18,
          2,
          1,
          3,
          3,
          9,
          26,
          1,
          2,
          11,
          52,
          37,
          66,
          218,
          2,
          29,
          10,
          45,
          67,
          134,
          32,
          9,
          36,
          16,
          100,
          16,
          7,
          4,
          59,
          43,
          29,
          5,
          26,
          44,
          2,
          51,
          1,
          49,
          35,
          12,
          31,
          5,
          26,
          57,
          41,
          8,
          40,
          169,
          9,
          15,
          5,
          10,
          16,
          1,
          34,
          84,
          26,
          10,
          65,
          19,
          33,
          8,
          12,
          2,
          9,
          26,
          2,
          20,
          9,
          2,
          40,
          16,
          1,
          30,
          23,
          95,
          33,
          21,
          1,
          8,
          16,
          53,
          23,
          12,
          31,
          12,
          64,
          36,
          2,
          19,
          23,
          22,
          8,
          25,
          19,
          9,
          7,
          77,
          4,
          12,
          12,
          9,
          3,
          7,
          12,
          5,
          32,
          38,
          121,
          25,
          24,
          16,
          27,
          11,
          8,
          36,
          57,
          28,
          10,
          10,
          33,
          50,
          4,
          3,
          5,
          45,
          16,
          4,
          105,
          9,
          45,
          25,
          168,
          19,
          88,
          73,
          9,
          24,
          9,
          18,
          9,
          1,
          33,
          2,
          140,
          35,
          41,
          9,
          33,
          24,
          12,
          36,
          17,
          15,
          19,
          16,
          9,
          13,
          3,
          40,
          1,
          32,
          81,
          7,
          10,
          30,
          44,
          26,
          44,
          1,
          107,
          46,
          1,
          23,
          50,
          306,
          79,
          17,
          3,
          64,
          49,
          3,
          51,
          73,
          70,
          44,
          11,
          25,
          18,
          4,
          4,
          16,
          41,
          12,
          8,
          22,
          5,
          15,
          63,
          2,
          2,
          1,
          17,
          10,
          20,
          4,
          1,
          16,
          20,
          4,
          21,
          90,
          8,
          2,
          1,
          34,
          15,
          24,
          17,
          18,
          39,
          17,
          89,
          25,
          22,
          3,
          12,
          44,
          9,
          88,
          37,
          3,
          30,
          12,
          48,
          22,
          8,
          35,
          4,
          36,
          4,
          3,
          2,
          17,
          46,
          39,
          6,
          22,
          40,
          33,
          45,
          4,
          66,
          10,
          17,
          3,
          17,
          56,
          23,
          12,
          88,
          9,
          42,
          7,
          18,
          45,
          10,
          57,
          29,
          18,
          52,
          4,
          3,
          9,
          39,
          50,
          9,
          2,
          17,
          11,
          8,
          51,
          16,
          100,
          23,
          32,
          45,
          3,
          4,
          3,
          31,
          45,
          89,
          2,
          19,
          30,
          37,
          45,
          41,
          8,
          10,
          8,
          24,
          53,
          32,
          17,
          45,
          17,
          9,
          3,
          21,
          6,
          31,
          9,
          10,
          26,
          64,
          6,
          14,
          28,
          8,
          25,
          16,
          11,
          32,
          21,
          4,
          1,
          7,
          5,
          10,
          32,
          12,
          18,
          37,
          2,
          18,
          82,
          9,
          4,
          2,
          50,
          61,
          1,
          13,
          36,
          27,
          45,
          17,
          2,
          29,
          6,
          8,
          2,
          64,
          99,
          3,
          28,
          21,
          20,
          34,
          24,
          52,
          7,
          64,
          3,
          9,
          50,
          22,
          5,
          52,
          2,
          2,
          22,
          19,
          3,
          10,
          109,
          3,
          67,
          1,
          21,
          9,
          3,
          4,
          4,
          18,
          15,
          33,
          31,
          1,
          30,
          17,
          32,
          23,
          25,
          5,
          54,
          16,
          18,
          22,
          10,
          24,
          17,
          2,
          34,
          3,
          73,
          5,
          4,
          47,
          1,
          9,
          9,
          1,
          37,
          85,
          19,
          3,
          9,
          19,
          9,
          15,
          17,
          26,
          46,
          36,
          79,
          29,
          11,
          87,
          5,
          25,
          18,
          31,
          114,
          8,
          20,
          4,
          31,
          58,
          33,
          10,
          2,
          10,
          4,
          29,
          1,
          11,
          103,
          23,
          8,
          14,
          3,
          11,
          1,
          31,
          9,
          37,
          43,
          23,
          22,
          5,
          64,
          12,
          31,
          15,
          2,
          1,
          26,
          8,
          116,
          4,
          5,
          29,
          4,
          23,
          9,
          24,
          50,
          156,
          12,
          21,
          80,
          4,
          5,
          1,
          9,
          52,
          13,
          22,
          4,
          1,
          8,
          4,
          13,
          78,
          17,
          3,
          11,
          1,
          46,
          5,
          8,
          29,
          3,
          11,
          79,
          16,
          27,
          3,
          32,
          3,
          96,
          28,
          30,
          74,
          9,
          12,
          28,
          9,
          18,
          18,
          33,
          35,
          123,
          7,
          28,
          4,
          3,
          50,
          22,
          9,
          2,
          18,
          10,
          33,
          29,
          6,
          8,
          5,
          16,
          16,
          16,
          1,
          23,
          32,
          22,
          31,
          29,
          33,
          50,
          5,
          44,
          56,
          8,
          11,
          28,
          36,
          24,
          36,
          27,
          40,
          60,
          4,
          24,
          7,
          19,
          16,
          12,
          13,
          3,
          1,
          4,
          5,
          2,
          42,
          130,
          60,
          26,
          9,
          32,
          4,
          8,
          12,
          15,
          11,
          18,
          25,
          1,
          8,
          15,
          18,
          151,
          17,
          9,
          15,
          4,
          15,
          8,
          17,
          1,
          13,
          23,
          17,
          41,
          24,
          11,
          9,
          8,
          20,
          1,
          39,
          22,
          126,
          5,
          4,
          1,
          330,
          16,
          12,
          3,
          30,
          11,
          16,
          19,
          4,
          1,
          2,
          29,
          148,
          2,
          8,
          1,
          15,
          43,
          23,
          16,
          10,
          16,
          45,
          4,
          1,
          1,
          9,
          206,
          58,
          3,
          29,
          15,
          17,
          24,
          2,
          11,
          1,
          1,
          1,
          30,
          43,
          43,
          1,
          20,
          14,
          8,
          7,
          50,
          8,
          5,
          1,
          7,
          109,
          60,
          2,
          73,
          4,
          12,
          23,
          2,
          41,
          4,
          53,
          23,
          6,
          15,
          18,
          6,
          31,
          36,
          1,
          61,
          12,
          25,
          29,
          11,
          73,
          4,
          26,
          4,
          66,
          43,
          16,
          44,
          1,
          1,
          4,
          2,
          10,
          17,
          7,
          30,
          38,
          17,
          30,
          35,
          3,
          4,
          23,
          38,
          26,
          96,
          16,
          9,
          4,
          3,
          2,
          19,
          12,
          4,
          5,
          1,
          1,
          19,
          17,
          8,
          13,
          97,
          25,
          153,
          27,
          40,
          22,
          22,
          37,
          82,
          11,
          16,
          4,
          13,
          14,
          72,
          5,
          9,
          3,
          42,
          27,
          2,
          302,
          3,
          6,
          3,
          59,
          13,
          31,
          2,
          80,
          3,
          4,
          32,
          72,
          4,
          4,
          64,
          1,
          36,
          29,
          5,
          9,
          49,
          1,
          5,
          21,
          32,
          38,
          38,
          25,
          15,
          36,
          74,
          12,
          32,
          36,
          22,
          36,
          12,
          25,
          4,
          7,
          22,
          6,
          26,
          114,
          23,
          8,
          45,
          26,
          2,
          82,
          12,
          8,
          1,
          2,
          68,
          11,
          8,
          30,
          9,
          17,
          8,
          13,
          13,
          10,
          4,
          15,
          31,
          9,
          5,
          15,
          95,
          4,
          71,
          2,
          3,
          22,
          2,
          3,
          39,
          12,
          9,
          192,
          72,
          30,
          3,
          10,
          72,
          7,
          39,
          25,
          173,
          23,
          3,
          4,
          43
         ]
        },
        {
         "name": "Frequency",
         "type": "box",
         "y": [
          182,
          73,
          95,
          59,
          131,
          19,
          254,
          129,
          274,
          85,
          167,
          63,
          219,
          105,
          91,
          100,
          159,
          126,
          85,
          108,
          77,
          113,
          114,
          778,
          198,
          46,
          126,
          35,
          300,
          97,
          240,
          108,
          420,
          201,
          98,
          177,
          191,
          355,
          90,
          129,
          68,
          72,
          88,
          29,
          51,
          531,
          391,
          179,
          457,
          264,
          308,
          36,
          154,
          218,
          81,
          350,
          55,
          245,
          84,
          65,
          160,
          147,
          286,
          124,
          155,
          110,
          144,
          71,
          95,
          68,
          273,
          274,
          481,
          52,
          70,
          196,
          121,
          33,
          111,
          168,
          463,
          191,
          62,
          89,
          148,
          120,
          251,
          126,
          119,
          214,
          133,
          62,
          65,
          111,
          163,
          105,
          95,
          92,
          474,
          307,
          230,
          43,
          64,
          103,
          101,
          394,
          53,
          47,
          74,
          45,
          128,
          130,
          56,
          232,
          38,
          168,
          94,
          91,
          45,
          167,
          52,
          646,
          525,
          362,
          105,
          157,
          171,
          72,
          43,
          270,
          90,
          348,
          174,
          257,
          142,
          38,
          259,
          69,
          359,
          164,
          69,
          53,
          124,
          141,
          277,
          229,
          103,
          4642,
          231,
          53,
          230,
          377,
          97,
          69,
          310,
          67,
          51,
          159,
          107,
          86,
          59,
          8,
          59,
          94,
          56,
          39,
          175,
          123,
          316,
          116,
          439,
          108,
          91,
          51,
          84,
          115,
          317,
          96,
          551,
          85,
          154,
          49,
          125,
          63,
          96,
          75,
          24,
          50,
          109,
          52,
          741,
          45,
          84,
          102,
          107,
          130,
          63,
          120,
          47,
          103,
          118,
          219,
          23,
          65,
          80,
          183,
          244,
          96,
          109,
          33,
          151,
          308,
          78,
          68,
          73,
          67,
          342,
          409,
          107,
          222,
          124,
          176,
          459,
          134,
          43,
          47,
          99,
          75,
          43,
          196,
          137,
          422,
          69,
          470,
          112,
          380,
          1061,
          75,
          1857,
          161,
          170,
          30,
          437,
          605,
          310,
          20,
          60,
          50,
          146,
          280,
          132,
          76,
          82,
          235,
          142,
          46,
          105,
          139,
          705,
          63,
          174,
          136,
          347,
          86,
          85,
          89,
          122,
          82,
          65,
          133,
          48,
          43,
          314,
          265,
          94,
          183,
          84,
          110,
          229,
          120,
          46,
          57,
          150,
          329,
          56,
          143,
          109,
          34,
          612,
          207,
          32,
          143,
          38,
          1677,
          91,
          202,
          224,
          447,
          320,
          187,
          59,
          81,
          57,
          107,
          77,
          78,
          75,
          88,
          135,
          500,
          110,
          21,
          77,
          109,
          268,
          134,
          119,
          43,
          169,
          60,
          132,
          158,
          173,
          155,
          51,
          164,
          47,
          501,
          30,
          314,
          105,
          128,
          78,
          159,
          67,
          54,
          103,
          167,
          62,
          199,
          71,
          444,
          53,
          65,
          394,
          99,
          306,
          260,
          81,
          112,
          427,
          52,
          45,
          67,
          227,
          162,
          44,
          117,
          44,
          143,
          95,
          436,
          177,
          224,
          342,
          179,
          98,
          124,
          52,
          121,
          136,
          175,
          82,
          176,
          85,
          341,
          46,
          130,
          85,
          180,
          89,
          129,
          166,
          264,
          99,
          98,
          228,
          201,
          86,
          94,
          59,
          80,
          147,
          188,
          64,
          148,
          80,
          98,
          63,
          166,
          112,
          501,
          216,
          57,
          39,
          55,
          585,
          90,
          197,
          135,
          28,
          346,
          103,
          60,
          86,
          118,
          63,
          208,
          194,
          323,
          42,
          343,
          143,
          117,
          70,
          208,
          399,
          143,
          120,
          177,
          219,
          57,
          115,
          31,
          45,
          439,
          66,
          137,
          76,
          71,
          177,
          96,
          46,
          74,
          55,
          174,
          206,
          58,
          81,
          24,
          114,
          77,
          142,
          61,
          33,
          307,
          118,
          338,
          104,
          165,
          180,
          66,
          155,
          60,
          114,
          119,
          149,
          126,
          148,
          137,
          49,
          47,
          160,
          36,
          138,
          20,
          152,
          633,
          158,
          340,
          115,
          112,
          353,
          239,
          86,
          125,
          155,
          87,
          212,
          40,
          171,
          84,
          162,
          68,
          243,
          258,
          152,
          66,
          241,
          209,
          34,
          505,
          54,
          215,
          1128,
          291,
          203,
          111,
          82,
          333,
          43,
          181,
          451,
          590,
          217,
          105,
          5128,
          252,
          84,
          124,
          157,
          173,
          40,
          72,
          161,
          167,
          52,
          201,
          134,
          47,
          67,
          46,
          245,
          1420,
          1212,
          52,
          164,
          327,
          165,
          248,
          71,
          277,
          263,
          604,
          44,
          88,
          103,
          118,
          70,
          109,
          59,
          107,
          194,
          118,
          73,
          183,
          118,
          159,
          80,
          116,
          148,
          112,
          111,
          78,
          107,
          112,
          143,
          228,
          156,
          27,
          285,
          47,
          103,
          238,
          108,
          61,
          64,
          1640,
          162,
          110,
          180,
          123,
          87,
          104,
          123,
          269,
          163,
          63,
          90,
          130,
          58,
          118,
          69,
          533,
          131,
          59,
          140,
          191,
          62,
          291,
          353,
          95,
          183,
          104,
          76,
          107,
          55,
          287,
          45,
          612,
          124,
          206,
          222,
          264,
          148,
          382,
          55,
          59,
          68,
          293,
          70,
          258,
          109,
          977,
          180,
          246,
          72,
          43,
          281,
          144,
          145,
          123,
          193,
          194,
          631,
          164,
          107,
          803,
          316,
          98,
          71,
          101,
          203,
          298,
          1011,
          216,
          65,
          558,
          333,
          76,
          111,
          107,
          114,
          417,
          367,
          48,
          113,
          216,
          76,
          446,
          129,
          273,
          123,
          330,
          384,
          197,
          164,
          152,
          53,
          102,
          55,
          2782,
          114,
          20,
          96,
          135,
          126,
          153,
          175,
          113,
          29,
          2085,
          199,
          237,
          50,
          127,
          259,
          168,
          117,
          576,
          74,
          102,
          44,
          320,
          421,
          359,
          71,
          133,
          210,
          115,
          350,
          348,
          415,
          29,
          197,
          139,
          359,
          341,
          71,
          238,
          37,
          278,
          52,
          501,
          149,
          216,
          205,
          56,
          61,
          59,
          28,
          92,
          237,
          38,
          102,
          137,
          1094,
          134,
          30,
          46,
          82,
          1165,
          392,
          47,
          256,
          255,
          53,
          29,
          121,
          70,
          110,
          138,
          158,
          130,
          392,
          143,
          131,
          66,
          59,
          48,
          103,
          147,
          72,
          98,
          50,
          124,
          54,
          73,
          506,
          55,
          119,
          98,
          364,
          69,
          168,
          5903,
          28,
          87,
          78,
          128,
          42,
          88,
          366,
          172,
          64,
          149,
          85,
          317,
          198,
          160,
          216,
          115,
          1160,
          182,
          479,
          135,
          563,
          155,
          48,
          111,
          513,
          400,
          133,
          1508,
          461,
          207,
          80,
          143,
          71,
          114,
          276,
          239,
          121,
          410,
          158,
          53,
          82,
          104,
          76,
          451,
          60,
          145,
          112,
          101,
          102,
          84,
          101,
          197,
          45,
          80,
          87,
          106,
          140,
          111,
          84,
          52,
          73,
          69,
          81,
          218,
          67,
          344,
          278,
          55,
          133,
          720,
          103,
          110,
          95,
          93,
          232,
          326,
          1,
          36,
          142,
          43,
          110,
          166,
          119,
          58,
          126,
          143,
          99,
          52,
          52,
          83,
          111,
          89,
          358,
          121,
          44,
          55,
          78,
          48,
          275,
          47,
          150,
          88,
          59,
          212,
          109,
          200,
          194,
          247,
          2491,
          106,
          62,
          233,
          519,
          561,
          151,
          96,
          95,
          137,
          117,
          196,
          37,
          306,
          85,
          85,
          74,
          50,
          153,
          122,
          100,
          39,
          193,
          300,
          306,
          59,
          329,
          385,
          219,
          62,
          286,
          104,
          53,
          77,
          46,
          127,
          189,
          86,
          55,
          155,
          299,
          125,
          523,
          68,
          252,
          99,
          164,
          160,
          314,
          218,
          220,
          200,
          180,
          166,
          674,
          108,
          228,
          263,
          86,
          261,
          702,
          116,
          61,
          925,
          31,
          117,
          53,
          330,
          57,
          215,
          104,
          45,
          151,
          44,
          125,
          104,
          52,
          414,
          54,
          67,
          91,
          60,
          45,
          429,
          49,
          104,
          18,
          214,
          157,
          61,
          177,
          495,
          119,
          21,
          47,
          94,
          116,
          81,
          155,
          135,
          216,
          110,
          78,
          67,
          168,
          79,
          177,
          237,
          117,
          214,
          297,
          53,
          938,
          128,
          91,
          72,
          302,
          81,
          176,
          88,
          65,
          93,
          295,
          412,
          149,
          63,
          188,
          147,
          44,
          87,
          280,
          206,
          76,
          135,
          119,
          69,
          274,
          307,
          48,
          210,
          112,
          139,
          74,
          49,
          123,
          33,
          69,
          134,
          276,
          50,
          169,
          65,
          140,
          140,
          653,
          191,
          142,
          547,
          147,
          24,
          463,
          128,
          137,
          131,
          49,
          87,
          116,
          75,
          151,
          249,
          267,
          160,
          143,
          119,
          74,
          77,
          60,
          103,
          43,
          91,
          103,
          185,
          122,
          35,
          177,
          65,
          43,
          97,
          113,
          275,
          140,
          52,
          560,
          131,
          509,
          9,
          103,
          218,
          385,
          90,
          212,
          94,
          151,
          148,
          184,
          237,
          165,
          46,
          101,
          274,
          1152,
          75,
          312,
          84,
          68,
          134,
          180,
          64,
          102,
          131,
          21,
          227,
          167,
          67,
          67,
          83,
          57,
          48,
          31,
          354,
          284,
          212,
          117,
          89,
          78,
          365,
          118,
          237,
          136,
          89,
          139,
          502,
          35,
          99,
          85,
          127,
          87,
          176,
          219,
          297,
          67,
          151,
          179,
          115,
          98,
          66,
          46,
          123,
          43,
          90,
          97,
          134,
          48,
          142,
          662,
          295,
          93,
          69,
          124,
          274,
          135,
          124,
          260,
          134,
          109,
          168,
          109,
          120,
          79,
          167,
          156,
          320,
          319,
          154,
          45,
          84,
          47,
          92,
          235,
          60,
          94,
          110,
          70,
          671,
          106,
          90,
          53,
          51,
          130,
          76,
          118,
          228,
          128,
          109,
          358,
          100,
          210,
          198,
          172,
          232,
          73,
          102,
          399,
          372,
          109,
          132,
          282,
          174,
          99,
          111,
          202,
          135,
          85,
          236,
          148,
          182,
          171,
          368,
          146,
          97,
          97,
          136,
          169,
          35,
          113,
          298,
          200,
          77,
          181,
          45,
          981,
          261,
          74,
          207,
          474,
          58,
          133,
          106,
          222,
          62,
          174,
          280,
          66,
          97,
          184,
          119,
          153,
          72,
          95,
          52,
          35,
          123,
          76,
          261,
          80,
          208,
          161,
          262,
          117,
          92,
          170,
          44,
          30,
          281,
          588,
          62,
          312,
          154,
          284,
          123,
          79,
          402,
          22,
          447,
          632,
          236,
          203,
          228,
          185,
          269,
          668,
          128,
          193,
          242,
          358,
          452,
          45,
          69,
          25,
          176,
          43,
          89,
          718,
          222,
          146,
          255,
          158,
          344,
          197,
          95,
          322,
          287,
          164,
          103,
          150,
          449,
          325,
          95,
          191,
          47,
          166,
          298,
          117,
          379,
          129,
          139,
          289,
          123,
          159,
          178,
          101,
          203,
          101,
          163,
          125,
          44,
          710,
          209,
          151,
          547,
          105,
          57,
          143,
          130,
          327,
          696,
          89,
          213,
          77,
          898,
          49,
          242,
          305,
          283,
          249,
          61,
          54,
          31,
          91,
          149,
          418,
          121,
          129,
          95,
          169,
          44,
          44,
          75,
          217,
          268,
          234,
          155,
          32,
          71,
          98,
          102,
          322,
          316,
          84,
          516,
          101,
          82,
          297,
          154,
          148,
          174,
          80,
          81,
          162,
          189,
          96,
          115,
          64,
          198,
          125,
          77,
          52,
          213,
          65,
          42,
          421,
          121,
          135,
          43,
          134,
          27,
          52,
          487,
          48,
          85,
          67,
          102,
          229,
          105,
          145,
          60,
          87,
          64,
          131,
          76,
          89,
          237,
          35,
          96,
          152,
          213,
          164,
          104,
          274,
          472,
          63,
          47,
          208,
          546,
          105,
          566,
          407,
          57,
          112,
          80,
          116,
          94,
          294,
          124,
          142,
          112,
          102,
          135,
          57,
          81,
          69,
          28,
          136,
          487,
          107,
          204,
          50,
          548,
          757,
          424,
          87,
          503,
          215,
          72,
          132,
          414,
          468,
          128,
          87,
          253,
          419,
          83,
          110,
          28,
          78,
          224,
          27,
          92,
          213,
          59,
          201,
          94,
          116,
          64,
          43,
          66,
          271,
          208,
          135,
          43,
          272,
          343,
          138,
          140,
          135,
          279,
          351,
          107,
          54,
          111,
          111,
          219,
          41,
          90,
          78,
          83,
          86,
          110,
          28,
          140,
          369,
          1076,
          106,
          137,
          83,
          46,
          73,
          33,
          23,
          260,
          394,
          75,
          145,
          51,
          88,
          106,
          64,
          152,
          177,
          299,
          417,
          52,
          452,
          36,
          214,
          253,
          201,
          167,
          215,
          83,
          270,
          565,
          238,
          582,
          142,
          319,
          78,
          50,
          315,
          124,
          72,
          297,
          169,
          92,
          239,
          270,
          50,
          93,
          82,
          161,
          90,
          18,
          117,
          68,
          61,
          115,
          228,
          721,
          79,
          321,
          119,
          130,
          286,
          258,
          126,
          146,
          80,
          55,
          108,
          395,
          254,
          278,
          50,
          120,
          198,
          67,
          169,
          220,
          690,
          99,
          48,
          137,
          193,
          93,
          742,
          412,
          95,
          105,
          313,
          157,
          194,
          134,
          190,
          82,
          111,
          410,
          104,
          147,
          43,
          64,
          872,
          141,
          378,
          49,
          220,
          82,
          61,
          172,
          137,
          7983,
          312,
          56,
          199,
          223,
          148,
          102,
          389,
          280,
          46,
          145,
          117,
          109,
          193,
          80,
          696,
          145,
          38,
          39,
          90,
          77,
          43,
          23,
          79,
          489,
          249,
          104,
          329,
          68,
          179,
          297,
          147,
          180,
          58,
          123,
          191,
          112,
          53,
          474,
          121,
          128,
          363,
          46,
          138,
          472,
          76,
          153,
          227,
          127,
          73,
          90,
          70,
          213,
          109,
          433,
          454,
          378,
          1284,
          364,
          197,
          71,
          162,
          43,
          221,
          140,
          81,
          43,
          197,
          75,
          90,
          119,
          72,
          141,
          166,
          202,
          134,
          115,
          65,
          299,
          286,
          245,
          164,
          89,
          126,
          104,
          49,
          61,
          105,
          78,
          177,
          123,
          42,
          140,
          62,
          170,
          756,
          70
         ]
        },
        {
         "name": "Value",
         "type": "box",
         "y": [
          4310,
          1757.55,
          1545.41,
          2811.43,
          6207.67,
          1168.06,
          6245.53,
          2662.06,
          5154.58,
          1313.1,
          3545.69,
          1887.96,
          4008.62,
          2720.56,
          1803.96,
          2780.66,
          2998.28,
          2409.9,
          1635.6599999999999,
          3280.75,
          1708.1200000000001,
          2842.57,
          11056.93,
          123725.45,
          3578.8,
          806.27,
          1849.11,
          708.37,
          7877.2,
          3750.4,
          6416.39,
          5059.32,
          13375.87,
          4896.66,
          2906.85,
          5005.46,
          4067.29,
          8933.52,
          2466.86,
          3153.89,
          1917.78,
          1124.01,
          1303.63,
          1212.05,
          733.89,
          18740.92,
          6229.48,
          2848.23,
          7116.47,
          6546.58,
          13117.01,
          680.99,
          3281.63,
          5590.86,
          2327.13,
          4495.27,
          1298.66,
          5417.93,
          1139.3500000000001,
          4206.27,
          2089.68,
          3723.87,
          2464.89,
          2056.89,
          2582.51,
          1745.57,
          4485.72,
          1316.66,
          1922.28,
          1623.63,
          4106.82,
          3852.5,
          13309.039999999999,
          981.18,
          1141.5,
          3652.25,
          603.71,
          11990.960000000001,
          2101.39,
          3781.7400000000002,
          9114.94,
          4064.9900000000002,
          1004.72,
          1306.98,
          595.4,
          2753.36,
          7187.34,
          1893.95,
          3320.2200000000003,
          3683.13,
          3002.68,
          1032.58,
          2581.04,
          2057.99,
          3218.98,
          2291.19,
          3214.81,
          1339.41,
          13612.07,
          6388.35,
          4478.53,
          769.61,
          1270.88,
          2140.63,
          1689.18,
          5953.25,
          1174.58,
          1013.26,
          1755.38,
          1346.97,
          3669.92,
          3982.72,
          1152.06,
          3817.08,
          4863.88,
          3743.18,
          2986.15,
          1919.31,
          1331.39,
          17588.26,
          862.81,
          13677.59,
          12288.22,
          8221.09,
          2283.63,
          2863.08,
          4873.8099999999995,
          1247.61,
          939.02,
          4867.99,
          2220.84,
          6814.24,
          2616.32,
          9294.1,
          4241.63,
          848.55,
          4708.86,
          1053.49,
          5713.28,
          2628.98,
          725.07,
          1031.41,
          2609.1,
          3947.7,
          18793.41,
          9120.39,
          4196.01,
          29072.1,
          3868.2,
          4366.78,
          21024.01,
          4227.7,
          2791.59,
          1898.52,
          6989.63,
          1351.24,
          804.23,
          3868.7,
          2273.32,
          1603.87,
          574.42,
          6977.04,
          942.34,
          1468.1200000000001,
          1018.71,
          6748.4,
          2612.86,
          683.13,
          5583.62,
          2714.27,
          3876.4,
          1680.76,
          871.54,
          1050.8899999999999,
          1881.7,
          1289.15,
          2162.68,
          1548.07,
          3986.22,
          2218.02,
          1535.77,
          841.64,
          16293.1,
          2919.81,
          2128.83,
          3075.04,
          1662.3,
          2483.63,
          2982.35,
          1301.44,
          16389.74,
          694.05,
          2062.7000000000003,
          33462.81,
          606.28,
          2156.45,
          1012.9,
          1504.27,
          11581.8,
          876.29,
          2053.7,
          4143.02,
          1843,
          1042.07,
          1382.8400000000001,
          4734.26,
          3979.04,
          1841.03,
          771.91,
          1194.75,
          452.24,
          10930.26,
          1215.6200000000001,
          6854.51,
          902.22,
          1197.94,
          9797.92,
          5613.43,
          1311.6200000000001,
          4786.99,
          3365.43,
          3346.28,
          7272.75,
          2584.4,
          936.15,
          659.68,
          799.48,
          996.52,
          676.99,
          3079.1,
          1805.91,
          5684.61,
          1119.49,
          3717.82,
          729.27,
          12432.28,
          27964.48,
          3595.48,
          57385.88,
          8689.39,
          7741.47,
          1708.8600000000001,
          5893.32,
          28658.88,
          6336.29,
          1098.48,
          1524.07,
          766.84,
          1452.8700000000001,
          10510,
          2205.63,
          984.91,
          1125,
          3866.33,
          2056.29,
          1039.3,
          1740.63,
          2545.38,
          3605.08,
          962.39,
          5055.79,
          2385.8,
          3348.48,
          1676.06,
          971.76,
          1721.57,
          1379.75,
          1644.99,
          791.33,
          1310.14,
          426.81,
          353.65,
          2817.03,
          5725.47,
          3957.78,
          1648.79,
          1539.69,
          1797.78,
          3384.09,
          9803.96,
          870.09,
          869.46,
          1205.9,
          5820.16,
          1197.42,
          780.58,
          2150.85,
          6083.04,
          2763.41,
          1357.6,
          680.83,
          1922.1,
          698.58,
          7454.07,
          2107.66,
          3717.67,
          4404.44,
          3167.64,
          5315.92,
          2709.12,
          2089.85,
          2000.86,
          1367.6100000000001,
          1456.79,
          1083.63,
          1555.32,
          578.66,
          5815.49,
          2140.07,
          10664.34,
          1491.7,
          787.85,
          7072.8,
          3617.57,
          3536.82,
          10736.48,
          2543.72,
          910.72,
          3085.4900000000002,
          992.5,
          2191.22,
          3312.25,
          3626.81,
          4122.28,
          797.96,
          2312.8,
          1325.29,
          27487.41,
          988.91,
          5845.44,
          1848.98,
          2601.55,
          1624.21,
          3550.7000000000003,
          1006.8,
          648.6899999999999,
          3794.4900000000002,
          3408.06,
          1104.23,
          3465.67,
          2043.7199999999998,
          2916.45,
          1007.35,
          1737.8200000000002,
          9537.92,
          1083.71,
          5656.75,
          2531.58,
          1441.53,
          1776.81,
          8910.61,
          1990.1200000000001,
          1146.96,
          1136.77,
          4282.88,
          2479.16,
          979.72,
          1785.16,
          1389.41,
          2109.07,
          3487.75,
          1093.65,
          3755.38,
          2263.76,
          5613.08,
          3448.29,
          626.99,
          682.41,
          916.12,
          3539.53,
          4149.28,
          605.06,
          1799.33,
          874.71,
          373.75,
          2092.32,
          732.0699999999999,
          6703.3,
          1658.3,
          2445.12,
          1976.12,
          1990.28,
          697.04,
          5030.6,
          693.32,
          678.01,
          1115.43,
          1610.46,
          672.44,
          1624.02,
          7792.36,
          1995.68,
          2117.02,
          1575.16,
          941.62,
          2597.52,
          1670.22,
          1809.34,
          1095.08,
          2707.33,
          2421.47,
          6216.07,
          2202.31,
          827.83,
          3119.44,
          1466.8700000000001,
          62653.1,
          2504.13,
          2265.12,
          2295.31,
          711.86,
          6249.110000000001,
          1432.26,
          1041.68,
          2369.16,
          1809.81,
          1016.14,
          2766.18,
          724,
          3102.42,
          1340.1499999999999,
          2154.68,
          5145.12,
          3190.55,
          1070.65,
          1521.76,
          16945.71,
          2771.87,
          2631.7,
          1132.13,
          25748.350000000002,
          360.01,
          912,
          2462.79,
          348.8,
          36351.42,
          3906.27,
          2635.79,
          1747.66,
          1353.41,
          4014.91,
          632,
          1698.94,
          2202.99,
          834.57,
          691.73,
          3385.62,
          847.61,
          2651.46,
          1056.94,
          8025.0199999999995,
          1240,
          2187.31,
          1015.29,
          3192.54,
          3104.95,
          2751.25,
          6389.8,
          1786.79,
          3219.77,
          16989.52,
          1131.28,
          2538.75,
          781.3000000000001,
          1860.8600000000001,
          2588.12,
          2867.2,
          2347.05,
          2580.91,
          1682.08,
          839.14,
          4912.41,
          2427.32,
          728.56,
          3246.091,
          3515.68,
          1026.42,
          8986.69,
          2702.2200000000003,
          2503.23,
          1861.11,
          2590.46,
          7024.53,
          4098.8,
          850.63,
          3409.66,
          2313.14,
          1383.49,
          3865.26,
          2030.3300000000002,
          4582.64,
          2874.72,
          4328.46,
          1398.96,
          2360.09,
          14634.640000000001,
          2929.84,
          1428.02,
          3542.19,
          652.82,
          1290.01,
          5639.15,
          746.36,
          15477.34,
          8124.4,
          6147.4,
          6135.38,
          10464.85,
          1188.32,
          1307.41,
          942.26,
          1018.43,
          4435.79,
          50415.49,
          4063.1,
          442.85,
          57120.909999999996,
          3092.9700000000003,
          1314.73,
          2688.48,
          5669.65,
          2774.17,
          1377.92,
          1382.74,
          2740.3,
          2740.43,
          1123.8600000000001,
          3580.13,
          4690.31,
          982.3800000000001,
          920.05,
          879.0300000000001,
          2949.57,
          113384.14,
          4678.3,
          2445.91,
          3108.06,
          1620.93,
          719.78,
          4640.77,
          2018.91,
          4604.31,
          4660.01,
          11216.75,
          663.5,
          2067.13,
          1900.89,
          2208.3,
          1000.23,
          1777.92,
          1839.3,
          1925.3600000000001,
          3427.85,
          1050.12,
          2201.64,
          3315.71,
          2043.93,
          775.46,
          3093.86,
          2323.5,
          2535.88,
          1677.48,
          1904.05,
          2879.7000000000003,
          3087.27,
          12650.08,
          2618.23,
          3957,
          3729.34,
          1910.01,
          4595.81,
          911.26,
          2307.4500000000003,
          3873.3,
          4819.33,
          1046.56,
          1284.06,
          50862.44,
          2855.35,
          1803.76,
          2995.72,
          2319.68,
          1611.59,
          2456.98,
          1530.75,
          4928.74,
          2539.46,
          468.26,
          1614.91,
          2166.38,
          882.58,
          2128.23,
          3717.35,
          9167.82,
          626.0699999999999,
          1247.69,
          1770.56,
          3172.04,
          999.72,
          4592.47,
          3471.91,
          2556.68,
          4039.98,
          1434.72,
          2111.08,
          2606.53,
          1908.25,
          576.3,
          761.3299999999999,
          5811.56,
          1937.25,
          1058.06,
          4263.64,
          3918.9,
          1230.14,
          2255.51,
          2357.6800000000003,
          1545.14,
          1544.62,
          1039.58,
          1163.23,
          907.1,
          662.59,
          3047.63,
          2103.06,
          1965.9,
          2272.4,
          461.19,
          1936.84,
          2068.15,
          1183.58,
          2362.84,
          1957.32,
          815.32,
          2351.02,
          3543.26,
          673.26,
          5818.7,
          2012.17,
          1368.18,
          1267.4099999999999,
          2102.09,
          1867.68,
          4221.37,
          7711.38,
          2925.91,
          1812.6200000000001,
          4075.35,
          2841.09,
          996.26,
          1461.65,
          2916.17,
          2024.45,
          2487.02,
          3986.7400000000002,
          765.62,
          859.27,
          2381.04,
          2174.18,
          4709.22,
          3073.77,
          2803.69,
          859.71,
          1052.55,
          1598.24,
          1447.14,
          570.46,
          617.99,
          379.83,
          1740.6,
          883.15,
          11713.85,
          11341.1,
          1785.15,
          1765.76,
          869.35,
          2757.07,
          939.21,
          2952.34,
          2042.15,
          780.46,
          279489.02,
          1417.29,
          1947.55,
          1930.15,
          838.27,
          2456.53,
          771.17,
          1258.38,
          9231.2,
          1736.4,
          604.75,
          2543.2400000000002,
          26932.34,
          1236.28,
          5107.38,
          2114.33,
          2070.97,
          1250.76,
          2235.3,
          2486.2200000000003,
          3250.64,
          1546.91,
          1096.67,
          4911.14,
          606.13,
          2838.2,
          2664.2599999999998,
          867.38,
          1592.18,
          663.81,
          1158.3,
          718.08,
          2005.06,
          2686.34,
          9451.54,
          5807.6900000000005,
          1289.94,
          3899.1,
          1400.34,
          1088.53,
          1311.79,
          4965.38,
          738.96,
          1625.97,
          2423.07,
          10641.6,
          2195.58,
          679.4399999999999,
          745.06,
          1272.11,
          7839.51,
          4236.34,
          554.65,
          2175.37,
          2087.88,
          778.5,
          1127.71,
          2226.91,
          1698.35,
          1641.2,
          3295.76,
          2456.8,
          3189.81,
          7904.28,
          2836.69,
          2749.89,
          1311.3799999999999,
          1352.04,
          841.1999999999999,
          14197.45,
          2939.64,
          721.95,
          522.38,
          1448.72,
          1485.54,
          756.64,
          1237.8500000000001,
          11020.26,
          1366.38,
          1228.32,
          1414.99,
          2744.48,
          1025.44,
          3478.85,
          132572.62,
          841.52,
          1227.43,
          1316.07,
          2372.86,
          964.6800000000001,
          1888.84,
          8117.42,
          5842.95,
          1066.57,
          7912.79,
          336.17,
          7006.58,
          1487.8,
          1116.57,
          1931.42,
          1641.76,
          6180.49,
          1261.78,
          1872.28,
          905.04,
          6763.16,
          1661.33,
          627.13,
          668.14,
          2571.02,
          4277.66,
          665.59,
          19786.44,
          7629.38,
          5064.01,
          1727.17,
          1391.61,
          697.79,
          302.1,
          2124.9900000000002,
          1325.82,
          303.09,
          54228.74,
          3135.98,
          760.59,
          1744.76,
          553.36,
          612.43,
          9623.35,
          1140.27,
          2420.84,
          4410.14,
          2298.93,
          1407.73,
          1567.48,
          3439.41,
          2760.56,
          1352.75,
          1550.13,
          1612.13,
          2199.31,
          11117.05,
          1419.54,
          3447.4,
          977.9300000000001,
          1387.99,
          1282.45,
          2350,
          6530.04,
          1194.73,
          5303.97,
          4684.24,
          961.49,
          1869.5,
          18573.68,
          843.05,
          1624.05,
          2186.2,
          4670.08,
          15802.14,
          7521.17,
          3861,
          656.44,
          1827.8,
          867.62,
          1661.44,
          5756.89,
          1758.92,
          1219.4,
          3376.96,
          2247.51,
          1412.32,
          1056.54,
          764.34,
          1685.57,
          1738.59,
          2515.84,
          6657.36,
          10327.11,
          740.78,
          915.3,
          1780.77,
          2298.2,
          2485.82,
          716.57,
          2239.9500000000003,
          2306.52,
          935.1,
          7803.7699999999995,
          4596.51,
          3610.31,
          3774.1,
          5028.12,
          59419.340000000004,
          2650.73,
          1005.5,
          1862.14,
          2766.5,
          8234.8,
          1330.45,
          1867.69,
          2360.55,
          2213.11,
          1233.3600000000001,
          3631.8900000000003,
          1682.3600000000001,
          5927.86,
          1515.73,
          2183.54,
          1339.63,
          815.77,
          1056.44,
          3450.84,
          1346.38,
          774.9000000000001,
          3974.37,
          1429.9,
          1483.14,
          997.48,
          1122.53,
          3212.16,
          1418.26,
          971.22,
          1388.37,
          6945.0199999999995,
          511.88,
          469.48,
          1441.42,
          6568.72,
          3563.11,
          2575,
          1090.03,
          3090.85,
          1967.25,
          1299.23,
          12396.46,
          1131.56,
          5541.46,
          3497.14,
          979.26,
          909.23,
          14520.08,
          2963.19,
          1911.89,
          2574.65,
          811.02,
          2348.82,
          3967.78,
          1502.35,
          2007.44,
          1517.08,
          746.92,
          3542.51,
          4954.84,
          1655.76,
          575.63,
          4758.2,
          722.74,
          1319.69,
          758.29,
          4109.97,
          650.4300000000001,
          2552.86,
          607.45,
          940.6700000000001,
          3429.9700000000003,
          682.9100000000001,
          722.61,
          1767.53,
          761.74,
          6745.36,
          1083.63,
          1198.23,
          2422.64,
          1093.68,
          1568.39,
          10360.04,
          747.031,
          1524.4,
          1158.77,
          3224.53,
          2865.64,
          1180.4,
          3147.31,
          12433.34,
          1887.2,
          922.53,
          748.5,
          1552.01,
          2242.01,
          2635.4900000000002,
          2881.02,
          1744.02,
          3324.09,
          781.28,
          1333.68,
          946.36,
          2981.5,
          6423.6,
          2644.46,
          1542.14,
          2293.62,
          945.58,
          3329.7200000000003,
          1072.3600000000001,
          5043.96,
          598.73,
          507.08,
          2181.21,
          5178.96,
          1121.21,
          4788.77,
          784.46,
          1071.24,
          974.04,
          2451.23,
          2628.93,
          2318.88,
          1048.67,
          3245.47,
          51823.72,
          2593.94,
          2303.75,
          4834.2,
          948.05,
          1604.44,
          2666.61,
          699.08,
          1042.19,
          3848.55,
          5452.17,
          903.9,
          3724.77,
          1145.43,
          2171.32,
          1842.73,
          2100.6,
          1905.45,
          885.47,
          1649.3600000000001,
          1641.48,
          2084.9,
          954.09,
          33350.76,
          1020.74,
          3650.87,
          2974.65,
          16173.67,
          1438.85,
          977.21,
          3000.36,
          832.88,
          1769.7800000000002,
          3797.79,
          360.93,
          4330.67,
          440.78,
          396.48,
          1384.68,
          363.88,
          5126.34,
          1521.79,
          967.45,
          1232.18,
          1491.24,
          639.89,
          2461.85,
          1107.46,
          6102.26,
          955.24,
          1705.26,
          669.57,
          806.57,
          1634.53,
          4389.81,
          845.64,
          4199.85,
          3429.55,
          1054.73,
          2398.86,
          3408.48,
          1475.02,
          2816.97,
          1451.28,
          792.11,
          2756.82,
          1044.78,
          3084.17,
          12393.7,
          2735.37,
          615.39,
          1701.94,
          992.71,
          3362.71,
          1415.29,
          33366.25,
          653.13,
          690.54,
          1483.31,
          3450.2400000000002,
          851.01,
          719.81,
          50992.61,
          8727.61,
          1147.37,
          1111.79,
          1511.95,
          664.85,
          2140.2200000000003,
          1459.8600000000001,
          1153.62,
          1521.87,
          2173.53,
          1352,
          2806.9,
          981.51,
          1041.83,
          2005.63,
          1245.96,
          1842.14,
          1429.64,
          3204.1600000000003,
          1337.48,
          1667.97,
          867.11,
          6287.77,
          1880.22,
          3506.54,
          14305.66,
          2419.84,
          3741.98,
          1906.07,
          1824.23,
          3024.62,
          5352.97,
          802.53,
          3770.6,
          1822.97,
          1880.4199999999998,
          1406.57,
          10217.48,
          3991.94,
          6841.24,
          981.86,
          4913.32,
          1080.6200000000001,
          1821.52,
          761.38,
          664.26,
          2262.62,
          21086.3,
          681.19,
          3054.87,
          864.86,
          1096.32,
          858.41,
          3693.81,
          2607.87,
          3598.26,
          1352.3600000000001,
          1800.07,
          3665.62,
          2609.3,
          5203.51,
          746.83,
          5423.15,
          1423.29,
          1496.68,
          1531.51,
          823.97,
          2236.7400000000002,
          1328.55,
          5305.83,
          2755.56,
          3085.96,
          3844.22,
          1583.2,
          26626.8,
          1959.38,
          370.47999999999996,
          887.65,
          1469.45,
          1100.47,
          6675.71,
          2024.95,
          1460.3700000000001,
          3411.69,
          896.66,
          652.07,
          707.04,
          1540.42,
          804.49,
          497.43,
          1553.66,
          1320.56,
          977.52,
          2131.9,
          2941.05,
          1412.06,
          1486.9,
          4061.24,
          2126.93,
          2028.88,
          1026.99,
          675.27,
          33805.69,
          1908.25,
          1522.25,
          798.35,
          3640.67,
          616.79,
          1841.18,
          2158.37,
          3482.7400000000002,
          814.72,
          1383.7,
          1314.68,
          1603.46,
          650.43,
          757.44,
          1811.47,
          2494.46,
          684.41,
          1562.22,
          2965.69,
          950.26,
          874.59,
          1627.13,
          9295.67,
          11895.57,
          1244.59,
          1026.94,
          1388.81,
          4154.64,
          2266.25,
          641.55,
          3313.79,
          8257.04,
          816.51,
          3622.95,
          1285.22,
          4073.28,
          813.52,
          3038.67,
          5450.96,
          1187.66,
          2630.64,
          4379.65,
          2183.04,
          2878.15,
          1124.59,
          1676.47,
          1169.38,
          679.83,
          6654.26,
          1166.92,
          3794.52,
          8568.24,
          933.62,
          1370.8700000000001,
          4022.46,
          8093.59,
          1558.72,
          3013.83,
          1770.34,
          1028,
          65892.08,
          3043.48,
          1260.86,
          5040,
          5150.2699999999995,
          13946.130000000001,
          531.35,
          3029.87,
          2483.04,
          1651.03,
          3645.43,
          6840.2300000000005,
          3278.36,
          1773.92,
          4711.21,
          1382.02,
          1054.67,
          7076.28,
          2269.21,
          2191.84,
          1304.76,
          7170.7,
          6694.31,
          826.96,
          1515.9,
          1764.72,
          1484.63,
          772.84,
          1501.38,
          2758.25,
          5580.6,
          744.9,
          2246.81,
          1695.66,
          10454.05,
          2242.25,
          1520.1200000000001,
          1706.28,
          1201.51,
          1201.49,
          801.49,
          912.74,
          1692.98,
          6500.6,
          1446.95,
          3317.97,
          1106.53,
          3167.73,
          15357.78,
          1774.62,
          10183.82,
          805.62,
          2761.4900000000002,
          7066.31,
          2023.47,
          853.72,
          1519.08,
          471.51,
          809.7,
          496.84000000000003,
          444.46,
          1281.56,
          1706.88,
          3754.27,
          3085.48,
          981.65,
          1510.06,
          2528.67,
          621.6800000000001,
          576.26,
          1043.34,
          2596.45,
          6666.83,
          739.5,
          2781.5,
          1295.39,
          4604.22,
          530.08,
          1903.13,
          3049.88,
          1894.11,
          4345.5,
          1161.27,
          2085.08,
          2148.47,
          1809.05,
          1920.2,
          4392.42,
          5461.62,
          1625.05,
          1601.8600000000001,
          3989.57,
          1412.94,
          781.78,
          565.58,
          1842.56,
          8574.11,
          1272.61,
          848.59,
          734.5699999999999,
          1065.77,
          1044.3799999999999,
          1735.18,
          5594.78,
          3228.84,
          1353.83,
          3095.04,
          5116.13,
          1421.59,
          4531.34,
          2655.2200000000003,
          2385.48,
          1446.09,
          813.77,
          2003.85,
          2949.75,
          1555.05,
          2050.08,
          1991.01,
          2041.8500000000001,
          3802.81,
          1777.78,
          1088.2,
          992.6800000000001,
          937.92,
          971.74,
          1621.73,
          10380.43,
          869.6800000000001,
          747.22,
          806.9000000000001,
          2463.17,
          4892.240000000001,
          1139.73,
          10585.57,
          984.57,
          1679.64,
          1266.97,
          1534.73,
          3518.03,
          1707.21,
          2466.4,
          816.88,
          3755.65,
          1430.94,
          780.38,
          3286.9100000000003,
          2275.58,
          2095.13,
          1674.46,
          692.22,
          3563.85,
          2299.67,
          2741.08,
          984.12,
          1960.72,
          3198.25,
          335.13,
          939.32,
          1906.09,
          3127.82,
          916.13,
          3744.65,
          8628.55,
          384.52,
          272.44,
          310.64,
          2144.53,
          1703.41,
          1641.68,
          1064.11,
          1419.73,
          936.16,
          525.24,
          1875.1100000000001,
          669.11,
          1119.93,
          8600.73,
          2288.13,
          2514.76,
          6204.46,
          700.86,
          908.99,
          990.23,
          1944.32,
          6612.18,
          11891.18,
          537.74,
          2611.58,
          1159.52,
          1256.19,
          585.79,
          4455.73,
          4801.56,
          1349.52,
          423.89,
          1342.68,
          3925.92,
          404.66,
          20272.43,
          2686.42,
          784.11,
          31300.079999999998,
          7330.8,
          696.41,
          2129.96,
          2633.85,
          30300.82,
          967.22,
          1928.72,
          1214.72,
          748.94,
          1258.06,
          6838.34,
          4200.97,
          1853.1299999999999,
          759.17,
          5022.26,
          17078.45,
          2333.42,
          2210.2599999999998,
          2940.04,
          2504.86,
          187482.17,
          1648.95,
          316.5,
          657.3,
          757.46,
          1881.36,
          763.28,
          1843.06,
          1125.07,
          1249.34,
          1926.8799999999999,
          3541.92,
          689.1,
          2745.2799999999997,
          6100.74,
          88125.38,
          2920.04,
          768.08,
          1839.07,
          721.9599999999999,
          1070.71,
          652.74,
          706.7,
          3540.1,
          2385,
          897.62,
          645.96,
          909.96,
          1952.45,
          483.26,
          1107.38,
          901.21,
          4012.56,
          1498.51,
          3457.78,
          440.2,
          10736.11,
          1227.3,
          1133.07,
          2404.17,
          1479.22,
          2215.02,
          3911.56,
          388.79,
          2827.93,
          5050.77,
          1103.92,
          3947.87,
          1992.76,
          4509.37,
          971.58,
          843.48,
          2047,
          1784.12,
          1242.34,
          2361.9700000000003,
          2768.98,
          1789.55,
          3886.67,
          4737.13,
          1175.88,
          2571.7400000000002,
          1674.69,
          2954.75,
          1788.27,
          728.16,
          2055.51,
          3406.7200000000003,
          1284.08,
          3106.62,
          1622.22,
          20098.1,
          1383.27,
          16219.22,
          2459.33,
          3191.53,
          5739.46,
          4748.45,
          2201.05,
          2508.89,
          1719.72,
          798.74,
          1781.12,
          10097.37,
          5505.79,
          5367.8,
          1195.94,
          2380.64,
          3371.13,
          1042.55,
          2515.68,
          5288.83,
          13110.02,
          1863.35,
          2786.05,
          2291.08,
          1797.57,
          1739.92,
          5585.49,
          3456.7000000000003,
          834.99,
          2273.1800000000003,
          3960.63,
          1215.46,
          665.86,
          1865.19,
          1965.55,
          697.9,
          780.43,
          3026.08,
          1199.01,
          1251.84,
          546.04,
          4627.62,
          7677.71,
          732.16,
          1714.6,
          3661.0699999999997,
          1995.46,
          1599.97,
          350.64,
          1560.53,
          2312.7,
          40340.78,
          5288.63,
          26763.34,
          5155.66,
          2059.2,
          3160,
          597.5,
          10158.54,
          1889.4,
          1764.3600000000001,
          671.77,
          717.45,
          899.61,
          1119.81,
          336.43,
          4204.1,
          826.52,
          2894.33,
          1740.48,
          1331.57,
          389.84,
          4301.22,
          1983.5800000000002,
          52750.84,
          2295.37,
          1296.44,
          471.7,
          2622.57,
          1098.43,
          740.79,
          4393.61,
          737.81,
          1511.3,
          417.23,
          1483.56,
          668.11,
          422.88,
          730.4,
          4161.14,
          559.51,
          2085.65,
          6752.14,
          2119.41,
          2380.08,
          2021.82,
          3864.44,
          2538.7200000000003,
          2633.0099999999998,
          3651.97,
          703.37,
          9065.76,
          3017.3,
          911.15,
          2692.85,
          256438.49,
          7925.32,
          1418.03,
          5595.77,
          1826.21,
          1141.34,
          1045.74,
          8393.22,
          2888.75,
          2861.55,
          734.94,
          1612.79,
          1355.51,
          7490.17,
          1314.17,
          1793.17,
          1843.75,
          1998.49,
          689.13,
          5083.06,
          1979.3,
          2621.38,
          2019.77,
          1033.31,
          6315.2300000000005,
          5361.02,
          5192.1,
          7276.900000000001,
          2716.6000000000004,
          2066.17,
          1796.48,
          882.24,
          987.1,
          2058.09,
          2232.4900000000002,
          2507.56,
          2265.38,
          2338.6000000000004,
          2595,
          1211.08,
          3064.78,
          2094.88,
          1837.28
         ]
        }
       ],
       "layout": {
        "template": {
         "data": {
          "bar": [
           {
            "error_x": {
             "color": "#2a3f5f"
            },
            "error_y": {
             "color": "#2a3f5f"
            },
            "marker": {
             "line": {
              "color": "#E5ECF6",
              "width": 0.5
             },
             "pattern": {
              "fillmode": "overlay",
              "size": 10,
              "solidity": 0.2
             }
            },
            "type": "bar"
           }
          ],
          "barpolar": [
           {
            "marker": {
             "line": {
              "color": "#E5ECF6",
              "width": 0.5
             },
             "pattern": {
              "fillmode": "overlay",
              "size": 10,
              "solidity": 0.2
             }
            },
            "type": "barpolar"
           }
          ],
          "carpet": [
           {
            "aaxis": {
             "endlinecolor": "#2a3f5f",
             "gridcolor": "white",
             "linecolor": "white",
             "minorgridcolor": "white",
             "startlinecolor": "#2a3f5f"
            },
            "baxis": {
             "endlinecolor": "#2a3f5f",
             "gridcolor": "white",
             "linecolor": "white",
             "minorgridcolor": "white",
             "startlinecolor": "#2a3f5f"
            },
            "type": "carpet"
           }
          ],
          "choropleth": [
           {
            "colorbar": {
             "outlinewidth": 0,
             "ticks": ""
            },
            "type": "choropleth"
           }
          ],
          "contour": [
           {
            "colorbar": {
             "outlinewidth": 0,
             "ticks": ""
            },
            "colorscale": [
             [
              0,
              "#0d0887"
             ],
             [
              0.1111111111111111,
              "#46039f"
             ],
             [
              0.2222222222222222,
              "#7201a8"
             ],
             [
              0.3333333333333333,
              "#9c179e"
             ],
             [
              0.4444444444444444,
              "#bd3786"
             ],
             [
              0.5555555555555556,
              "#d8576b"
             ],
             [
              0.6666666666666666,
              "#ed7953"
             ],
             [
              0.7777777777777778,
              "#fb9f3a"
             ],
             [
              0.8888888888888888,
              "#fdca26"
             ],
             [
              1,
              "#f0f921"
             ]
            ],
            "type": "contour"
           }
          ],
          "contourcarpet": [
           {
            "colorbar": {
             "outlinewidth": 0,
             "ticks": ""
            },
            "type": "contourcarpet"
           }
          ],
          "heatmap": [
           {
            "colorbar": {
             "outlinewidth": 0,
             "ticks": ""
            },
            "colorscale": [
             [
              0,
              "#0d0887"
             ],
             [
              0.1111111111111111,
              "#46039f"
             ],
             [
              0.2222222222222222,
              "#7201a8"
             ],
             [
              0.3333333333333333,
              "#9c179e"
             ],
             [
              0.4444444444444444,
              "#bd3786"
             ],
             [
              0.5555555555555556,
              "#d8576b"
             ],
             [
              0.6666666666666666,
              "#ed7953"
             ],
             [
              0.7777777777777778,
              "#fb9f3a"
             ],
             [
              0.8888888888888888,
              "#fdca26"
             ],
             [
              1,
              "#f0f921"
             ]
            ],
            "type": "heatmap"
           }
          ],
          "heatmapgl": [
           {
            "colorbar": {
             "outlinewidth": 0,
             "ticks": ""
            },
            "colorscale": [
             [
              0,
              "#0d0887"
             ],
             [
              0.1111111111111111,
              "#46039f"
             ],
             [
              0.2222222222222222,
              "#7201a8"
             ],
             [
              0.3333333333333333,
              "#9c179e"
             ],
             [
              0.4444444444444444,
              "#bd3786"
             ],
             [
              0.5555555555555556,
              "#d8576b"
             ],
             [
              0.6666666666666666,
              "#ed7953"
             ],
             [
              0.7777777777777778,
              "#fb9f3a"
             ],
             [
              0.8888888888888888,
              "#fdca26"
             ],
             [
              1,
              "#f0f921"
             ]
            ],
            "type": "heatmapgl"
           }
          ],
          "histogram": [
           {
            "marker": {
             "pattern": {
              "fillmode": "overlay",
              "size": 10,
              "solidity": 0.2
             }
            },
            "type": "histogram"
           }
          ],
          "histogram2d": [
           {
            "colorbar": {
             "outlinewidth": 0,
             "ticks": ""
            },
            "colorscale": [
             [
              0,
              "#0d0887"
             ],
             [
              0.1111111111111111,
              "#46039f"
             ],
             [
              0.2222222222222222,
              "#7201a8"
             ],
             [
              0.3333333333333333,
              "#9c179e"
             ],
             [
              0.4444444444444444,
              "#bd3786"
             ],
             [
              0.5555555555555556,
              "#d8576b"
             ],
             [
              0.6666666666666666,
              "#ed7953"
             ],
             [
              0.7777777777777778,
              "#fb9f3a"
             ],
             [
              0.8888888888888888,
              "#fdca26"
             ],
             [
              1,
              "#f0f921"
             ]
            ],
            "type": "histogram2d"
           }
          ],
          "histogram2dcontour": [
           {
            "colorbar": {
             "outlinewidth": 0,
             "ticks": ""
            },
            "colorscale": [
             [
              0,
              "#0d0887"
             ],
             [
              0.1111111111111111,
              "#46039f"
             ],
             [
              0.2222222222222222,
              "#7201a8"
             ],
             [
              0.3333333333333333,
              "#9c179e"
             ],
             [
              0.4444444444444444,
              "#bd3786"
             ],
             [
              0.5555555555555556,
              "#d8576b"
             ],
             [
              0.6666666666666666,
              "#ed7953"
             ],
             [
              0.7777777777777778,
              "#fb9f3a"
             ],
             [
              0.8888888888888888,
              "#fdca26"
             ],
             [
              1,
              "#f0f921"
             ]
            ],
            "type": "histogram2dcontour"
           }
          ],
          "mesh3d": [
           {
            "colorbar": {
             "outlinewidth": 0,
             "ticks": ""
            },
            "type": "mesh3d"
           }
          ],
          "parcoords": [
           {
            "line": {
             "colorbar": {
              "outlinewidth": 0,
              "ticks": ""
             }
            },
            "type": "parcoords"
           }
          ],
          "pie": [
           {
            "automargin": true,
            "type": "pie"
           }
          ],
          "scatter": [
           {
            "fillpattern": {
             "fillmode": "overlay",
             "size": 10,
             "solidity": 0.2
            },
            "type": "scatter"
           }
          ],
          "scatter3d": [
           {
            "line": {
             "colorbar": {
              "outlinewidth": 0,
              "ticks": ""
             }
            },
            "marker": {
             "colorbar": {
              "outlinewidth": 0,
              "ticks": ""
             }
            },
            "type": "scatter3d"
           }
          ],
          "scattercarpet": [
           {
            "marker": {
             "colorbar": {
              "outlinewidth": 0,
              "ticks": ""
             }
            },
            "type": "scattercarpet"
           }
          ],
          "scattergeo": [
           {
            "marker": {
             "colorbar": {
              "outlinewidth": 0,
              "ticks": ""
             }
            },
            "type": "scattergeo"
           }
          ],
          "scattergl": [
           {
            "marker": {
             "colorbar": {
              "outlinewidth": 0,
              "ticks": ""
             }
            },
            "type": "scattergl"
           }
          ],
          "scattermapbox": [
           {
            "marker": {
             "colorbar": {
              "outlinewidth": 0,
              "ticks": ""
             }
            },
            "type": "scattermapbox"
           }
          ],
          "scatterpolar": [
           {
            "marker": {
             "colorbar": {
              "outlinewidth": 0,
              "ticks": ""
             }
            },
            "type": "scatterpolar"
           }
          ],
          "scatterpolargl": [
           {
            "marker": {
             "colorbar": {
              "outlinewidth": 0,
              "ticks": ""
             }
            },
            "type": "scatterpolargl"
           }
          ],
          "scatterternary": [
           {
            "marker": {
             "colorbar": {
              "outlinewidth": 0,
              "ticks": ""
             }
            },
            "type": "scatterternary"
           }
          ],
          "surface": [
           {
            "colorbar": {
             "outlinewidth": 0,
             "ticks": ""
            },
            "colorscale": [
             [
              0,
              "#0d0887"
             ],
             [
              0.1111111111111111,
              "#46039f"
             ],
             [
              0.2222222222222222,
              "#7201a8"
             ],
             [
              0.3333333333333333,
              "#9c179e"
             ],
             [
              0.4444444444444444,
              "#bd3786"
             ],
             [
              0.5555555555555556,
              "#d8576b"
             ],
             [
              0.6666666666666666,
              "#ed7953"
             ],
             [
              0.7777777777777778,
              "#fb9f3a"
             ],
             [
              0.8888888888888888,
              "#fdca26"
             ],
             [
              1,
              "#f0f921"
             ]
            ],
            "type": "surface"
           }
          ],
          "table": [
           {
            "cells": {
             "fill": {
              "color": "#EBF0F8"
             },
             "line": {
              "color": "white"
             }
            },
            "header": {
             "fill": {
              "color": "#C8D4E3"
             },
             "line": {
              "color": "white"
             }
            },
            "type": "table"
           }
          ]
         },
         "layout": {
          "annotationdefaults": {
           "arrowcolor": "#2a3f5f",
           "arrowhead": 0,
           "arrowwidth": 1
          },
          "autotypenumbers": "strict",
          "coloraxis": {
           "colorbar": {
            "outlinewidth": 0,
            "ticks": ""
           }
          },
          "colorscale": {
           "diverging": [
            [
             0,
             "#8e0152"
            ],
            [
             0.1,
             "#c51b7d"
            ],
            [
             0.2,
             "#de77ae"
            ],
            [
             0.3,
             "#f1b6da"
            ],
            [
             0.4,
             "#fde0ef"
            ],
            [
             0.5,
             "#f7f7f7"
            ],
            [
             0.6,
             "#e6f5d0"
            ],
            [
             0.7,
             "#b8e186"
            ],
            [
             0.8,
             "#7fbc41"
            ],
            [
             0.9,
             "#4d9221"
            ],
            [
             1,
             "#276419"
            ]
           ],
           "sequential": [
            [
             0,
             "#0d0887"
            ],
            [
             0.1111111111111111,
             "#46039f"
            ],
            [
             0.2222222222222222,
             "#7201a8"
            ],
            [
             0.3333333333333333,
             "#9c179e"
            ],
            [
             0.4444444444444444,
             "#bd3786"
            ],
            [
             0.5555555555555556,
             "#d8576b"
            ],
            [
             0.6666666666666666,
             "#ed7953"
            ],
            [
             0.7777777777777778,
             "#fb9f3a"
            ],
            [
             0.8888888888888888,
             "#fdca26"
            ],
            [
             1,
             "#f0f921"
            ]
           ],
           "sequentialminus": [
            [
             0,
             "#0d0887"
            ],
            [
             0.1111111111111111,
             "#46039f"
            ],
            [
             0.2222222222222222,
             "#7201a8"
            ],
            [
             0.3333333333333333,
             "#9c179e"
            ],
            [
             0.4444444444444444,
             "#bd3786"
            ],
            [
             0.5555555555555556,
             "#d8576b"
            ],
            [
             0.6666666666666666,
             "#ed7953"
            ],
            [
             0.7777777777777778,
             "#fb9f3a"
            ],
            [
             0.8888888888888888,
             "#fdca26"
            ],
            [
             1,
             "#f0f921"
            ]
           ]
          },
          "colorway": [
           "#636efa",
           "#EF553B",
           "#00cc96",
           "#ab63fa",
           "#FFA15A",
           "#19d3f3",
           "#FF6692",
           "#B6E880",
           "#FF97FF",
           "#FECB52"
          ],
          "font": {
           "color": "#2a3f5f"
          },
          "geo": {
           "bgcolor": "white",
           "lakecolor": "white",
           "landcolor": "#E5ECF6",
           "showlakes": true,
           "showland": true,
           "subunitcolor": "white"
          },
          "hoverlabel": {
           "align": "left"
          },
          "hovermode": "closest",
          "mapbox": {
           "style": "light"
          },
          "paper_bgcolor": "white",
          "plot_bgcolor": "#E5ECF6",
          "polar": {
           "angularaxis": {
            "gridcolor": "white",
            "linecolor": "white",
            "ticks": ""
           },
           "bgcolor": "#E5ECF6",
           "radialaxis": {
            "gridcolor": "white",
            "linecolor": "white",
            "ticks": ""
           }
          },
          "scene": {
           "xaxis": {
            "backgroundcolor": "#E5ECF6",
            "gridcolor": "white",
            "gridwidth": 2,
            "linecolor": "white",
            "showbackground": true,
            "ticks": "",
            "zerolinecolor": "white"
           },
           "yaxis": {
            "backgroundcolor": "#E5ECF6",
            "gridcolor": "white",
            "gridwidth": 2,
            "linecolor": "white",
            "showbackground": true,
            "ticks": "",
            "zerolinecolor": "white"
           },
           "zaxis": {
            "backgroundcolor": "#E5ECF6",
            "gridcolor": "white",
            "gridwidth": 2,
            "linecolor": "white",
            "showbackground": true,
            "ticks": "",
            "zerolinecolor": "white"
           }
          },
          "shapedefaults": {
           "line": {
            "color": "#2a3f5f"
           }
          },
          "ternary": {
           "aaxis": {
            "gridcolor": "white",
            "linecolor": "white",
            "ticks": ""
           },
           "baxis": {
            "gridcolor": "white",
            "linecolor": "white",
            "ticks": ""
           },
           "bgcolor": "#E5ECF6",
           "caxis": {
            "gridcolor": "white",
            "linecolor": "white",
            "ticks": ""
           }
          },
          "title": {
           "x": 0.05
          },
          "xaxis": {
           "automargin": true,
           "gridcolor": "white",
           "linecolor": "white",
           "ticks": "",
           "title": {
            "standoff": 15
           },
           "zerolinecolor": "white",
           "zerolinewidth": 2
          },
          "yaxis": {
           "automargin": true,
           "gridcolor": "white",
           "linecolor": "white",
           "ticks": "",
           "title": {
            "standoff": 15
           },
           "zerolinecolor": "white",
           "zerolinewidth": 2
          }
         }
        }
       }
      }
     },
     "metadata": {},
     "output_type": "display_data"
    }
   ],
   "source": [
    "fig = go.Figure()\n",
    "fig.add_trace(go.Box(y=SuperLoyal_segment['Recency'], name='Recency'))\n",
    "fig.add_trace(go.Box(y=SuperLoyal_segment['Frequency'], name='Frequency'))\n",
    "fig.add_trace(go.Box(y=SuperLoyal_segment['Value'], name='Value'))\n"
   ]
  },
  {
   "cell_type": "code",
   "execution_count": 59,
   "metadata": {},
   "outputs": [],
   "source": [
    "#Correlation matrix\n",
    "correlation_matrix=SuperLoyal_segment[['R',\"F\",\"M\"]].corr()"
   ]
  },
  {
   "cell_type": "code",
   "execution_count": 66,
   "metadata": {},
   "outputs": [
    {
     "data": {
      "application/vnd.plotly.v1+json": {
       "config": {
        "plotlyServerURL": "https://plot.ly"
       },
       "data": [
        {
         "colorbar": {
          "title": {
           "text": "Correlation"
          }
         },
         "colorscale": [
          [
           0,
           "rgb(103,0,31)"
          ],
          [
           0.1,
           "rgb(178,24,43)"
          ],
          [
           0.2,
           "rgb(214,96,77)"
          ],
          [
           0.3,
           "rgb(244,165,130)"
          ],
          [
           0.4,
           "rgb(253,219,199)"
          ],
          [
           0.5,
           "rgb(247,247,247)"
          ],
          [
           0.6,
           "rgb(209,229,240)"
          ],
          [
           0.7,
           "rgb(146,197,222)"
          ],
          [
           0.8,
           "rgb(67,147,195)"
          ],
          [
           0.9,
           "rgb(33,102,172)"
          ],
          [
           1,
           "rgb(5,48,97)"
          ]
         ],
         "type": "heatmap",
         "x": [
          "R",
          "F",
          "M"
         ],
         "y": [
          "R",
          "F",
          "M"
         ],
         "z": [
          [
           1,
           -0.08984852745231332,
           -0.09640678722325052
          ],
          [
           -0.08984852745231332,
           1,
           0.3318125506296248
          ],
          [
           -0.09640678722325052,
           0.3318125506296248,
           1
          ]
         ]
        }
       ],
       "layout": {
        "template": {
         "data": {
          "bar": [
           {
            "error_x": {
             "color": "#2a3f5f"
            },
            "error_y": {
             "color": "#2a3f5f"
            },
            "marker": {
             "line": {
              "color": "#E5ECF6",
              "width": 0.5
             },
             "pattern": {
              "fillmode": "overlay",
              "size": 10,
              "solidity": 0.2
             }
            },
            "type": "bar"
           }
          ],
          "barpolar": [
           {
            "marker": {
             "line": {
              "color": "#E5ECF6",
              "width": 0.5
             },
             "pattern": {
              "fillmode": "overlay",
              "size": 10,
              "solidity": 0.2
             }
            },
            "type": "barpolar"
           }
          ],
          "carpet": [
           {
            "aaxis": {
             "endlinecolor": "#2a3f5f",
             "gridcolor": "white",
             "linecolor": "white",
             "minorgridcolor": "white",
             "startlinecolor": "#2a3f5f"
            },
            "baxis": {
             "endlinecolor": "#2a3f5f",
             "gridcolor": "white",
             "linecolor": "white",
             "minorgridcolor": "white",
             "startlinecolor": "#2a3f5f"
            },
            "type": "carpet"
           }
          ],
          "choropleth": [
           {
            "colorbar": {
             "outlinewidth": 0,
             "ticks": ""
            },
            "type": "choropleth"
           }
          ],
          "contour": [
           {
            "colorbar": {
             "outlinewidth": 0,
             "ticks": ""
            },
            "colorscale": [
             [
              0,
              "#0d0887"
             ],
             [
              0.1111111111111111,
              "#46039f"
             ],
             [
              0.2222222222222222,
              "#7201a8"
             ],
             [
              0.3333333333333333,
              "#9c179e"
             ],
             [
              0.4444444444444444,
              "#bd3786"
             ],
             [
              0.5555555555555556,
              "#d8576b"
             ],
             [
              0.6666666666666666,
              "#ed7953"
             ],
             [
              0.7777777777777778,
              "#fb9f3a"
             ],
             [
              0.8888888888888888,
              "#fdca26"
             ],
             [
              1,
              "#f0f921"
             ]
            ],
            "type": "contour"
           }
          ],
          "contourcarpet": [
           {
            "colorbar": {
             "outlinewidth": 0,
             "ticks": ""
            },
            "type": "contourcarpet"
           }
          ],
          "heatmap": [
           {
            "colorbar": {
             "outlinewidth": 0,
             "ticks": ""
            },
            "colorscale": [
             [
              0,
              "#0d0887"
             ],
             [
              0.1111111111111111,
              "#46039f"
             ],
             [
              0.2222222222222222,
              "#7201a8"
             ],
             [
              0.3333333333333333,
              "#9c179e"
             ],
             [
              0.4444444444444444,
              "#bd3786"
             ],
             [
              0.5555555555555556,
              "#d8576b"
             ],
             [
              0.6666666666666666,
              "#ed7953"
             ],
             [
              0.7777777777777778,
              "#fb9f3a"
             ],
             [
              0.8888888888888888,
              "#fdca26"
             ],
             [
              1,
              "#f0f921"
             ]
            ],
            "type": "heatmap"
           }
          ],
          "heatmapgl": [
           {
            "colorbar": {
             "outlinewidth": 0,
             "ticks": ""
            },
            "colorscale": [
             [
              0,
              "#0d0887"
             ],
             [
              0.1111111111111111,
              "#46039f"
             ],
             [
              0.2222222222222222,
              "#7201a8"
             ],
             [
              0.3333333333333333,
              "#9c179e"
             ],
             [
              0.4444444444444444,
              "#bd3786"
             ],
             [
              0.5555555555555556,
              "#d8576b"
             ],
             [
              0.6666666666666666,
              "#ed7953"
             ],
             [
              0.7777777777777778,
              "#fb9f3a"
             ],
             [
              0.8888888888888888,
              "#fdca26"
             ],
             [
              1,
              "#f0f921"
             ]
            ],
            "type": "heatmapgl"
           }
          ],
          "histogram": [
           {
            "marker": {
             "pattern": {
              "fillmode": "overlay",
              "size": 10,
              "solidity": 0.2
             }
            },
            "type": "histogram"
           }
          ],
          "histogram2d": [
           {
            "colorbar": {
             "outlinewidth": 0,
             "ticks": ""
            },
            "colorscale": [
             [
              0,
              "#0d0887"
             ],
             [
              0.1111111111111111,
              "#46039f"
             ],
             [
              0.2222222222222222,
              "#7201a8"
             ],
             [
              0.3333333333333333,
              "#9c179e"
             ],
             [
              0.4444444444444444,
              "#bd3786"
             ],
             [
              0.5555555555555556,
              "#d8576b"
             ],
             [
              0.6666666666666666,
              "#ed7953"
             ],
             [
              0.7777777777777778,
              "#fb9f3a"
             ],
             [
              0.8888888888888888,
              "#fdca26"
             ],
             [
              1,
              "#f0f921"
             ]
            ],
            "type": "histogram2d"
           }
          ],
          "histogram2dcontour": [
           {
            "colorbar": {
             "outlinewidth": 0,
             "ticks": ""
            },
            "colorscale": [
             [
              0,
              "#0d0887"
             ],
             [
              0.1111111111111111,
              "#46039f"
             ],
             [
              0.2222222222222222,
              "#7201a8"
             ],
             [
              0.3333333333333333,
              "#9c179e"
             ],
             [
              0.4444444444444444,
              "#bd3786"
             ],
             [
              0.5555555555555556,
              "#d8576b"
             ],
             [
              0.6666666666666666,
              "#ed7953"
             ],
             [
              0.7777777777777778,
              "#fb9f3a"
             ],
             [
              0.8888888888888888,
              "#fdca26"
             ],
             [
              1,
              "#f0f921"
             ]
            ],
            "type": "histogram2dcontour"
           }
          ],
          "mesh3d": [
           {
            "colorbar": {
             "outlinewidth": 0,
             "ticks": ""
            },
            "type": "mesh3d"
           }
          ],
          "parcoords": [
           {
            "line": {
             "colorbar": {
              "outlinewidth": 0,
              "ticks": ""
             }
            },
            "type": "parcoords"
           }
          ],
          "pie": [
           {
            "automargin": true,
            "type": "pie"
           }
          ],
          "scatter": [
           {
            "fillpattern": {
             "fillmode": "overlay",
             "size": 10,
             "solidity": 0.2
            },
            "type": "scatter"
           }
          ],
          "scatter3d": [
           {
            "line": {
             "colorbar": {
              "outlinewidth": 0,
              "ticks": ""
             }
            },
            "marker": {
             "colorbar": {
              "outlinewidth": 0,
              "ticks": ""
             }
            },
            "type": "scatter3d"
           }
          ],
          "scattercarpet": [
           {
            "marker": {
             "colorbar": {
              "outlinewidth": 0,
              "ticks": ""
             }
            },
            "type": "scattercarpet"
           }
          ],
          "scattergeo": [
           {
            "marker": {
             "colorbar": {
              "outlinewidth": 0,
              "ticks": ""
             }
            },
            "type": "scattergeo"
           }
          ],
          "scattergl": [
           {
            "marker": {
             "colorbar": {
              "outlinewidth": 0,
              "ticks": ""
             }
            },
            "type": "scattergl"
           }
          ],
          "scattermapbox": [
           {
            "marker": {
             "colorbar": {
              "outlinewidth": 0,
              "ticks": ""
             }
            },
            "type": "scattermapbox"
           }
          ],
          "scatterpolar": [
           {
            "marker": {
             "colorbar": {
              "outlinewidth": 0,
              "ticks": ""
             }
            },
            "type": "scatterpolar"
           }
          ],
          "scatterpolargl": [
           {
            "marker": {
             "colorbar": {
              "outlinewidth": 0,
              "ticks": ""
             }
            },
            "type": "scatterpolargl"
           }
          ],
          "scatterternary": [
           {
            "marker": {
             "colorbar": {
              "outlinewidth": 0,
              "ticks": ""
             }
            },
            "type": "scatterternary"
           }
          ],
          "surface": [
           {
            "colorbar": {
             "outlinewidth": 0,
             "ticks": ""
            },
            "colorscale": [
             [
              0,
              "#0d0887"
             ],
             [
              0.1111111111111111,
              "#46039f"
             ],
             [
              0.2222222222222222,
              "#7201a8"
             ],
             [
              0.3333333333333333,
              "#9c179e"
             ],
             [
              0.4444444444444444,
              "#bd3786"
             ],
             [
              0.5555555555555556,
              "#d8576b"
             ],
             [
              0.6666666666666666,
              "#ed7953"
             ],
             [
              0.7777777777777778,
              "#fb9f3a"
             ],
             [
              0.8888888888888888,
              "#fdca26"
             ],
             [
              1,
              "#f0f921"
             ]
            ],
            "type": "surface"
           }
          ],
          "table": [
           {
            "cells": {
             "fill": {
              "color": "#EBF0F8"
             },
             "line": {
              "color": "white"
             }
            },
            "header": {
             "fill": {
              "color": "#C8D4E3"
             },
             "line": {
              "color": "white"
             }
            },
            "type": "table"
           }
          ]
         },
         "layout": {
          "annotationdefaults": {
           "arrowcolor": "#2a3f5f",
           "arrowhead": 0,
           "arrowwidth": 1
          },
          "autotypenumbers": "strict",
          "coloraxis": {
           "colorbar": {
            "outlinewidth": 0,
            "ticks": ""
           }
          },
          "colorscale": {
           "diverging": [
            [
             0,
             "#8e0152"
            ],
            [
             0.1,
             "#c51b7d"
            ],
            [
             0.2,
             "#de77ae"
            ],
            [
             0.3,
             "#f1b6da"
            ],
            [
             0.4,
             "#fde0ef"
            ],
            [
             0.5,
             "#f7f7f7"
            ],
            [
             0.6,
             "#e6f5d0"
            ],
            [
             0.7,
             "#b8e186"
            ],
            [
             0.8,
             "#7fbc41"
            ],
            [
             0.9,
             "#4d9221"
            ],
            [
             1,
             "#276419"
            ]
           ],
           "sequential": [
            [
             0,
             "#0d0887"
            ],
            [
             0.1111111111111111,
             "#46039f"
            ],
            [
             0.2222222222222222,
             "#7201a8"
            ],
            [
             0.3333333333333333,
             "#9c179e"
            ],
            [
             0.4444444444444444,
             "#bd3786"
            ],
            [
             0.5555555555555556,
             "#d8576b"
            ],
            [
             0.6666666666666666,
             "#ed7953"
            ],
            [
             0.7777777777777778,
             "#fb9f3a"
            ],
            [
             0.8888888888888888,
             "#fdca26"
            ],
            [
             1,
             "#f0f921"
            ]
           ],
           "sequentialminus": [
            [
             0,
             "#0d0887"
            ],
            [
             0.1111111111111111,
             "#46039f"
            ],
            [
             0.2222222222222222,
             "#7201a8"
            ],
            [
             0.3333333333333333,
             "#9c179e"
            ],
            [
             0.4444444444444444,
             "#bd3786"
            ],
            [
             0.5555555555555556,
             "#d8576b"
            ],
            [
             0.6666666666666666,
             "#ed7953"
            ],
            [
             0.7777777777777778,
             "#fb9f3a"
            ],
            [
             0.8888888888888888,
             "#fdca26"
            ],
            [
             1,
             "#f0f921"
            ]
           ]
          },
          "colorway": [
           "#636efa",
           "#EF553B",
           "#00cc96",
           "#ab63fa",
           "#FFA15A",
           "#19d3f3",
           "#FF6692",
           "#B6E880",
           "#FF97FF",
           "#FECB52"
          ],
          "font": {
           "color": "#2a3f5f"
          },
          "geo": {
           "bgcolor": "white",
           "lakecolor": "white",
           "landcolor": "#E5ECF6",
           "showlakes": true,
           "showland": true,
           "subunitcolor": "white"
          },
          "hoverlabel": {
           "align": "left"
          },
          "hovermode": "closest",
          "mapbox": {
           "style": "light"
          },
          "paper_bgcolor": "white",
          "plot_bgcolor": "#E5ECF6",
          "polar": {
           "angularaxis": {
            "gridcolor": "white",
            "linecolor": "white",
            "ticks": ""
           },
           "bgcolor": "#E5ECF6",
           "radialaxis": {
            "gridcolor": "white",
            "linecolor": "white",
            "ticks": ""
           }
          },
          "scene": {
           "xaxis": {
            "backgroundcolor": "#E5ECF6",
            "gridcolor": "white",
            "gridwidth": 2,
            "linecolor": "white",
            "showbackground": true,
            "ticks": "",
            "zerolinecolor": "white"
           },
           "yaxis": {
            "backgroundcolor": "#E5ECF6",
            "gridcolor": "white",
            "gridwidth": 2,
            "linecolor": "white",
            "showbackground": true,
            "ticks": "",
            "zerolinecolor": "white"
           },
           "zaxis": {
            "backgroundcolor": "#E5ECF6",
            "gridcolor": "white",
            "gridwidth": 2,
            "linecolor": "white",
            "showbackground": true,
            "ticks": "",
            "zerolinecolor": "white"
           }
          },
          "shapedefaults": {
           "line": {
            "color": "#2a3f5f"
           }
          },
          "ternary": {
           "aaxis": {
            "gridcolor": "white",
            "linecolor": "white",
            "ticks": ""
           },
           "baxis": {
            "gridcolor": "white",
            "linecolor": "white",
            "ticks": ""
           },
           "bgcolor": "#E5ECF6",
           "caxis": {
            "gridcolor": "white",
            "linecolor": "white",
            "ticks": ""
           }
          },
          "title": {
           "x": 0.05
          },
          "xaxis": {
           "automargin": true,
           "gridcolor": "white",
           "linecolor": "white",
           "ticks": "",
           "title": {
            "standoff": 15
           },
           "zerolinecolor": "white",
           "zerolinewidth": 2
          },
          "yaxis": {
           "automargin": true,
           "gridcolor": "white",
           "linecolor": "white",
           "ticks": "",
           "title": {
            "standoff": 15
           },
           "zerolinecolor": "white",
           "zerolinewidth": 2
          }
         }
        },
        "title": {
         "text": "Correlation Matrix of RFM Values within Super Loyal Segment"
        }
       }
      }
     },
     "metadata": {},
     "output_type": "display_data"
    }
   ],
   "source": [
    "#HeatMap to Visualzie the correlation\n",
    "\n",
    "fig_heatmap=go.Figure(data=go.Heatmap(\n",
    "    z=correlation_matrix.values,\n",
    "    x=correlation_matrix.columns,\n",
    "    y=correlation_matrix.columns,\n",
    "    colorscale='RdBu',\n",
    "    colorbar=dict(title='Correlation')))\n",
    "fig_heatmap.update_layout(title='Correlation Matrix of RFM Values within Super Loyal Segment')\n",
    "fig_heatmap.show()"
   ]
  },
  {
   "cell_type": "code",
   "execution_count": 67,
   "metadata": {},
   "outputs": [
    {
     "data": {
      "application/vnd.plotly.v1+json": {
       "config": {
        "plotlyServerURL": "https://plot.ly"
       },
       "data": [
        {
         "marker": {
          "color": [
           "rgb(102, 197, 204)",
           "rgb(246, 207, 113)",
           "rgb(248, 156, 116)",
           "rgb(220, 176, 242)",
           "rgb(158,202,225)"
          ],
          "line": {
           "color": "rgb(8, 48, 107)",
           "width": 1.5
          }
         },
         "opacity": 0.6,
         "type": "bar",
         "x": [
          "At Risk Customers",
          "Can't lose",
          "Lost",
          "Potential Loyal",
          "SuperLoyal"
         ],
         "y": [
          517,
          391,
          392,
          1382,
          1690
         ]
        }
       ],
       "layout": {
        "showlegend": false,
        "template": {
         "data": {
          "bar": [
           {
            "error_x": {
             "color": "#2a3f5f"
            },
            "error_y": {
             "color": "#2a3f5f"
            },
            "marker": {
             "line": {
              "color": "#E5ECF6",
              "width": 0.5
             },
             "pattern": {
              "fillmode": "overlay",
              "size": 10,
              "solidity": 0.2
             }
            },
            "type": "bar"
           }
          ],
          "barpolar": [
           {
            "marker": {
             "line": {
              "color": "#E5ECF6",
              "width": 0.5
             },
             "pattern": {
              "fillmode": "overlay",
              "size": 10,
              "solidity": 0.2
             }
            },
            "type": "barpolar"
           }
          ],
          "carpet": [
           {
            "aaxis": {
             "endlinecolor": "#2a3f5f",
             "gridcolor": "white",
             "linecolor": "white",
             "minorgridcolor": "white",
             "startlinecolor": "#2a3f5f"
            },
            "baxis": {
             "endlinecolor": "#2a3f5f",
             "gridcolor": "white",
             "linecolor": "white",
             "minorgridcolor": "white",
             "startlinecolor": "#2a3f5f"
            },
            "type": "carpet"
           }
          ],
          "choropleth": [
           {
            "colorbar": {
             "outlinewidth": 0,
             "ticks": ""
            },
            "type": "choropleth"
           }
          ],
          "contour": [
           {
            "colorbar": {
             "outlinewidth": 0,
             "ticks": ""
            },
            "colorscale": [
             [
              0,
              "#0d0887"
             ],
             [
              0.1111111111111111,
              "#46039f"
             ],
             [
              0.2222222222222222,
              "#7201a8"
             ],
             [
              0.3333333333333333,
              "#9c179e"
             ],
             [
              0.4444444444444444,
              "#bd3786"
             ],
             [
              0.5555555555555556,
              "#d8576b"
             ],
             [
              0.6666666666666666,
              "#ed7953"
             ],
             [
              0.7777777777777778,
              "#fb9f3a"
             ],
             [
              0.8888888888888888,
              "#fdca26"
             ],
             [
              1,
              "#f0f921"
             ]
            ],
            "type": "contour"
           }
          ],
          "contourcarpet": [
           {
            "colorbar": {
             "outlinewidth": 0,
             "ticks": ""
            },
            "type": "contourcarpet"
           }
          ],
          "heatmap": [
           {
            "colorbar": {
             "outlinewidth": 0,
             "ticks": ""
            },
            "colorscale": [
             [
              0,
              "#0d0887"
             ],
             [
              0.1111111111111111,
              "#46039f"
             ],
             [
              0.2222222222222222,
              "#7201a8"
             ],
             [
              0.3333333333333333,
              "#9c179e"
             ],
             [
              0.4444444444444444,
              "#bd3786"
             ],
             [
              0.5555555555555556,
              "#d8576b"
             ],
             [
              0.6666666666666666,
              "#ed7953"
             ],
             [
              0.7777777777777778,
              "#fb9f3a"
             ],
             [
              0.8888888888888888,
              "#fdca26"
             ],
             [
              1,
              "#f0f921"
             ]
            ],
            "type": "heatmap"
           }
          ],
          "heatmapgl": [
           {
            "colorbar": {
             "outlinewidth": 0,
             "ticks": ""
            },
            "colorscale": [
             [
              0,
              "#0d0887"
             ],
             [
              0.1111111111111111,
              "#46039f"
             ],
             [
              0.2222222222222222,
              "#7201a8"
             ],
             [
              0.3333333333333333,
              "#9c179e"
             ],
             [
              0.4444444444444444,
              "#bd3786"
             ],
             [
              0.5555555555555556,
              "#d8576b"
             ],
             [
              0.6666666666666666,
              "#ed7953"
             ],
             [
              0.7777777777777778,
              "#fb9f3a"
             ],
             [
              0.8888888888888888,
              "#fdca26"
             ],
             [
              1,
              "#f0f921"
             ]
            ],
            "type": "heatmapgl"
           }
          ],
          "histogram": [
           {
            "marker": {
             "pattern": {
              "fillmode": "overlay",
              "size": 10,
              "solidity": 0.2
             }
            },
            "type": "histogram"
           }
          ],
          "histogram2d": [
           {
            "colorbar": {
             "outlinewidth": 0,
             "ticks": ""
            },
            "colorscale": [
             [
              0,
              "#0d0887"
             ],
             [
              0.1111111111111111,
              "#46039f"
             ],
             [
              0.2222222222222222,
              "#7201a8"
             ],
             [
              0.3333333333333333,
              "#9c179e"
             ],
             [
              0.4444444444444444,
              "#bd3786"
             ],
             [
              0.5555555555555556,
              "#d8576b"
             ],
             [
              0.6666666666666666,
              "#ed7953"
             ],
             [
              0.7777777777777778,
              "#fb9f3a"
             ],
             [
              0.8888888888888888,
              "#fdca26"
             ],
             [
              1,
              "#f0f921"
             ]
            ],
            "type": "histogram2d"
           }
          ],
          "histogram2dcontour": [
           {
            "colorbar": {
             "outlinewidth": 0,
             "ticks": ""
            },
            "colorscale": [
             [
              0,
              "#0d0887"
             ],
             [
              0.1111111111111111,
              "#46039f"
             ],
             [
              0.2222222222222222,
              "#7201a8"
             ],
             [
              0.3333333333333333,
              "#9c179e"
             ],
             [
              0.4444444444444444,
              "#bd3786"
             ],
             [
              0.5555555555555556,
              "#d8576b"
             ],
             [
              0.6666666666666666,
              "#ed7953"
             ],
             [
              0.7777777777777778,
              "#fb9f3a"
             ],
             [
              0.8888888888888888,
              "#fdca26"
             ],
             [
              1,
              "#f0f921"
             ]
            ],
            "type": "histogram2dcontour"
           }
          ],
          "mesh3d": [
           {
            "colorbar": {
             "outlinewidth": 0,
             "ticks": ""
            },
            "type": "mesh3d"
           }
          ],
          "parcoords": [
           {
            "line": {
             "colorbar": {
              "outlinewidth": 0,
              "ticks": ""
             }
            },
            "type": "parcoords"
           }
          ],
          "pie": [
           {
            "automargin": true,
            "type": "pie"
           }
          ],
          "scatter": [
           {
            "fillpattern": {
             "fillmode": "overlay",
             "size": 10,
             "solidity": 0.2
            },
            "type": "scatter"
           }
          ],
          "scatter3d": [
           {
            "line": {
             "colorbar": {
              "outlinewidth": 0,
              "ticks": ""
             }
            },
            "marker": {
             "colorbar": {
              "outlinewidth": 0,
              "ticks": ""
             }
            },
            "type": "scatter3d"
           }
          ],
          "scattercarpet": [
           {
            "marker": {
             "colorbar": {
              "outlinewidth": 0,
              "ticks": ""
             }
            },
            "type": "scattercarpet"
           }
          ],
          "scattergeo": [
           {
            "marker": {
             "colorbar": {
              "outlinewidth": 0,
              "ticks": ""
             }
            },
            "type": "scattergeo"
           }
          ],
          "scattergl": [
           {
            "marker": {
             "colorbar": {
              "outlinewidth": 0,
              "ticks": ""
             }
            },
            "type": "scattergl"
           }
          ],
          "scattermapbox": [
           {
            "marker": {
             "colorbar": {
              "outlinewidth": 0,
              "ticks": ""
             }
            },
            "type": "scattermapbox"
           }
          ],
          "scatterpolar": [
           {
            "marker": {
             "colorbar": {
              "outlinewidth": 0,
              "ticks": ""
             }
            },
            "type": "scatterpolar"
           }
          ],
          "scatterpolargl": [
           {
            "marker": {
             "colorbar": {
              "outlinewidth": 0,
              "ticks": ""
             }
            },
            "type": "scatterpolargl"
           }
          ],
          "scatterternary": [
           {
            "marker": {
             "colorbar": {
              "outlinewidth": 0,
              "ticks": ""
             }
            },
            "type": "scatterternary"
           }
          ],
          "surface": [
           {
            "colorbar": {
             "outlinewidth": 0,
             "ticks": ""
            },
            "colorscale": [
             [
              0,
              "#0d0887"
             ],
             [
              0.1111111111111111,
              "#46039f"
             ],
             [
              0.2222222222222222,
              "#7201a8"
             ],
             [
              0.3333333333333333,
              "#9c179e"
             ],
             [
              0.4444444444444444,
              "#bd3786"
             ],
             [
              0.5555555555555556,
              "#d8576b"
             ],
             [
              0.6666666666666666,
              "#ed7953"
             ],
             [
              0.7777777777777778,
              "#fb9f3a"
             ],
             [
              0.8888888888888888,
              "#fdca26"
             ],
             [
              1,
              "#f0f921"
             ]
            ],
            "type": "surface"
           }
          ],
          "table": [
           {
            "cells": {
             "fill": {
              "color": "#EBF0F8"
             },
             "line": {
              "color": "white"
             }
            },
            "header": {
             "fill": {
              "color": "#C8D4E3"
             },
             "line": {
              "color": "white"
             }
            },
            "type": "table"
           }
          ]
         },
         "layout": {
          "annotationdefaults": {
           "arrowcolor": "#2a3f5f",
           "arrowhead": 0,
           "arrowwidth": 1
          },
          "autotypenumbers": "strict",
          "coloraxis": {
           "colorbar": {
            "outlinewidth": 0,
            "ticks": ""
           }
          },
          "colorscale": {
           "diverging": [
            [
             0,
             "#8e0152"
            ],
            [
             0.1,
             "#c51b7d"
            ],
            [
             0.2,
             "#de77ae"
            ],
            [
             0.3,
             "#f1b6da"
            ],
            [
             0.4,
             "#fde0ef"
            ],
            [
             0.5,
             "#f7f7f7"
            ],
            [
             0.6,
             "#e6f5d0"
            ],
            [
             0.7,
             "#b8e186"
            ],
            [
             0.8,
             "#7fbc41"
            ],
            [
             0.9,
             "#4d9221"
            ],
            [
             1,
             "#276419"
            ]
           ],
           "sequential": [
            [
             0,
             "#0d0887"
            ],
            [
             0.1111111111111111,
             "#46039f"
            ],
            [
             0.2222222222222222,
             "#7201a8"
            ],
            [
             0.3333333333333333,
             "#9c179e"
            ],
            [
             0.4444444444444444,
             "#bd3786"
            ],
            [
             0.5555555555555556,
             "#d8576b"
            ],
            [
             0.6666666666666666,
             "#ed7953"
            ],
            [
             0.7777777777777778,
             "#fb9f3a"
            ],
            [
             0.8888888888888888,
             "#fdca26"
            ],
            [
             1,
             "#f0f921"
            ]
           ],
           "sequentialminus": [
            [
             0,
             "#0d0887"
            ],
            [
             0.1111111111111111,
             "#46039f"
            ],
            [
             0.2222222222222222,
             "#7201a8"
            ],
            [
             0.3333333333333333,
             "#9c179e"
            ],
            [
             0.4444444444444444,
             "#bd3786"
            ],
            [
             0.5555555555555556,
             "#d8576b"
            ],
            [
             0.6666666666666666,
             "#ed7953"
            ],
            [
             0.7777777777777778,
             "#fb9f3a"
            ],
            [
             0.8888888888888888,
             "#fdca26"
            ],
            [
             1,
             "#f0f921"
            ]
           ]
          },
          "colorway": [
           "#636efa",
           "#EF553B",
           "#00cc96",
           "#ab63fa",
           "#FFA15A",
           "#19d3f3",
           "#FF6692",
           "#B6E880",
           "#FF97FF",
           "#FECB52"
          ],
          "font": {
           "color": "#2a3f5f"
          },
          "geo": {
           "bgcolor": "white",
           "lakecolor": "white",
           "landcolor": "#E5ECF6",
           "showlakes": true,
           "showland": true,
           "subunitcolor": "white"
          },
          "hoverlabel": {
           "align": "left"
          },
          "hovermode": "closest",
          "mapbox": {
           "style": "light"
          },
          "paper_bgcolor": "white",
          "plot_bgcolor": "#E5ECF6",
          "polar": {
           "angularaxis": {
            "gridcolor": "white",
            "linecolor": "white",
            "ticks": ""
           },
           "bgcolor": "#E5ECF6",
           "radialaxis": {
            "gridcolor": "white",
            "linecolor": "white",
            "ticks": ""
           }
          },
          "scene": {
           "xaxis": {
            "backgroundcolor": "#E5ECF6",
            "gridcolor": "white",
            "gridwidth": 2,
            "linecolor": "white",
            "showbackground": true,
            "ticks": "",
            "zerolinecolor": "white"
           },
           "yaxis": {
            "backgroundcolor": "#E5ECF6",
            "gridcolor": "white",
            "gridwidth": 2,
            "linecolor": "white",
            "showbackground": true,
            "ticks": "",
            "zerolinecolor": "white"
           },
           "zaxis": {
            "backgroundcolor": "#E5ECF6",
            "gridcolor": "white",
            "gridwidth": 2,
            "linecolor": "white",
            "showbackground": true,
            "ticks": "",
            "zerolinecolor": "white"
           }
          },
          "shapedefaults": {
           "line": {
            "color": "#2a3f5f"
           }
          },
          "ternary": {
           "aaxis": {
            "gridcolor": "white",
            "linecolor": "white",
            "ticks": ""
           },
           "baxis": {
            "gridcolor": "white",
            "linecolor": "white",
            "ticks": ""
           },
           "bgcolor": "#E5ECF6",
           "caxis": {
            "gridcolor": "white",
            "linecolor": "white",
            "ticks": ""
           }
          },
          "title": {
           "x": 0.05
          },
          "xaxis": {
           "automargin": true,
           "gridcolor": "white",
           "linecolor": "white",
           "ticks": "",
           "title": {
            "standoff": 15
           },
           "zerolinecolor": "white",
           "zerolinewidth": 2
          },
          "yaxis": {
           "automargin": true,
           "gridcolor": "white",
           "linecolor": "white",
           "ticks": "",
           "title": {
            "standoff": 15
           },
           "zerolinecolor": "white",
           "zerolinewidth": 2
          }
         }
        },
        "title": {
         "text": "Comparison of RFM Segments"
        },
        "xaxis": {
         "title": {
          "text": "RFM Segments"
         }
        },
        "yaxis": {
         "title": {
          "text": "Number of Customers"
         }
        }
       }
      }
     },
     "metadata": {},
     "output_type": "display_data"
    }
   ],
   "source": [
    "pastel_colors=plotly.colors.qualitative.Pastel\n",
    "\n",
    "fig=go.Figure(data=[go.Bar(x=segment_counts.index, y=segment_counts.values, marker=dict(color=pastel_colors))])\n",
    "\n",
    "vip_color='rgb(158,202,225)'\n",
    "\n",
    "fig.update_traces(marker_color=[vip_color if segment == 'SuperLoyal' else pastel_colors[i]\n",
    "                                for i, segment in enumerate(segment_counts.index)],\n",
    "                  marker_line_color='rgb(8, 48, 107)',\n",
    "                  marker_line_width=1.5, opacity=0.6)\n",
    "\n",
    "#Update Layout\n",
    "fig.update_layout(title='Comparison of RFM Segments',\n",
    "                  xaxis_title='RFM Segments',\n",
    "                  yaxis_title='Number of Customers',\n",
    "                  showlegend=False)\n",
    "\n",
    "#Display the Figure\n",
    "fig.show()"
   ]
  },
  {
   "cell_type": "code",
   "execution_count": 69,
   "metadata": {},
   "outputs": [
    {
     "data": {
      "application/vnd.plotly.v1+json": {
       "config": {
        "plotlyServerURL": "https://plot.ly"
       },
       "data": [
        {
         "marker": {
          "color": "rgb(158,202,255)"
         },
         "name": "Recency Score",
         "type": "bar",
         "x": [
          "At Risk Customers",
          "Can't lose",
          "Lost",
          "Potential Loyal",
          "SuperLoyal"
         ],
         "y": [
          1.735009671179884,
          1.462915601023018,
          1,
          2.444283646888567,
          3.4041420118343195
         ]
        },
        {
         "marker": {
          "color": "rgb(94,158,217)"
         },
         "name": "Frequency Score",
         "type": "bar",
         "x": [
          "At Risk Customers",
          "Can't lose",
          "Lost",
          "Potential Loyal",
          "SuperLoyal"
         ],
         "y": [
          1.6247582205029014,
          1.2736572890025575,
          1,
          2.2532561505065125,
          3.568639053254438
         ]
        },
        {
         "marker": {
          "color": "rgb(32,102,148)"
         },
         "name": "Monetary Score",
         "type": "bar",
         "x": [
          "At Risk Customers",
          "Can't lose",
          "Lost",
          "Potential Loyal",
          "SuperLoyal"
         ],
         "y": [
          1.6402321083172147,
          1.2634271099744245,
          1,
          2.3017366136034734,
          3.559171597633136
         ]
        }
       ],
       "layout": {
        "barmode": "group",
        "showlegend": true,
        "template": {
         "data": {
          "bar": [
           {
            "error_x": {
             "color": "#2a3f5f"
            },
            "error_y": {
             "color": "#2a3f5f"
            },
            "marker": {
             "line": {
              "color": "#E5ECF6",
              "width": 0.5
             },
             "pattern": {
              "fillmode": "overlay",
              "size": 10,
              "solidity": 0.2
             }
            },
            "type": "bar"
           }
          ],
          "barpolar": [
           {
            "marker": {
             "line": {
              "color": "#E5ECF6",
              "width": 0.5
             },
             "pattern": {
              "fillmode": "overlay",
              "size": 10,
              "solidity": 0.2
             }
            },
            "type": "barpolar"
           }
          ],
          "carpet": [
           {
            "aaxis": {
             "endlinecolor": "#2a3f5f",
             "gridcolor": "white",
             "linecolor": "white",
             "minorgridcolor": "white",
             "startlinecolor": "#2a3f5f"
            },
            "baxis": {
             "endlinecolor": "#2a3f5f",
             "gridcolor": "white",
             "linecolor": "white",
             "minorgridcolor": "white",
             "startlinecolor": "#2a3f5f"
            },
            "type": "carpet"
           }
          ],
          "choropleth": [
           {
            "colorbar": {
             "outlinewidth": 0,
             "ticks": ""
            },
            "type": "choropleth"
           }
          ],
          "contour": [
           {
            "colorbar": {
             "outlinewidth": 0,
             "ticks": ""
            },
            "colorscale": [
             [
              0,
              "#0d0887"
             ],
             [
              0.1111111111111111,
              "#46039f"
             ],
             [
              0.2222222222222222,
              "#7201a8"
             ],
             [
              0.3333333333333333,
              "#9c179e"
             ],
             [
              0.4444444444444444,
              "#bd3786"
             ],
             [
              0.5555555555555556,
              "#d8576b"
             ],
             [
              0.6666666666666666,
              "#ed7953"
             ],
             [
              0.7777777777777778,
              "#fb9f3a"
             ],
             [
              0.8888888888888888,
              "#fdca26"
             ],
             [
              1,
              "#f0f921"
             ]
            ],
            "type": "contour"
           }
          ],
          "contourcarpet": [
           {
            "colorbar": {
             "outlinewidth": 0,
             "ticks": ""
            },
            "type": "contourcarpet"
           }
          ],
          "heatmap": [
           {
            "colorbar": {
             "outlinewidth": 0,
             "ticks": ""
            },
            "colorscale": [
             [
              0,
              "#0d0887"
             ],
             [
              0.1111111111111111,
              "#46039f"
             ],
             [
              0.2222222222222222,
              "#7201a8"
             ],
             [
              0.3333333333333333,
              "#9c179e"
             ],
             [
              0.4444444444444444,
              "#bd3786"
             ],
             [
              0.5555555555555556,
              "#d8576b"
             ],
             [
              0.6666666666666666,
              "#ed7953"
             ],
             [
              0.7777777777777778,
              "#fb9f3a"
             ],
             [
              0.8888888888888888,
              "#fdca26"
             ],
             [
              1,
              "#f0f921"
             ]
            ],
            "type": "heatmap"
           }
          ],
          "heatmapgl": [
           {
            "colorbar": {
             "outlinewidth": 0,
             "ticks": ""
            },
            "colorscale": [
             [
              0,
              "#0d0887"
             ],
             [
              0.1111111111111111,
              "#46039f"
             ],
             [
              0.2222222222222222,
              "#7201a8"
             ],
             [
              0.3333333333333333,
              "#9c179e"
             ],
             [
              0.4444444444444444,
              "#bd3786"
             ],
             [
              0.5555555555555556,
              "#d8576b"
             ],
             [
              0.6666666666666666,
              "#ed7953"
             ],
             [
              0.7777777777777778,
              "#fb9f3a"
             ],
             [
              0.8888888888888888,
              "#fdca26"
             ],
             [
              1,
              "#f0f921"
             ]
            ],
            "type": "heatmapgl"
           }
          ],
          "histogram": [
           {
            "marker": {
             "pattern": {
              "fillmode": "overlay",
              "size": 10,
              "solidity": 0.2
             }
            },
            "type": "histogram"
           }
          ],
          "histogram2d": [
           {
            "colorbar": {
             "outlinewidth": 0,
             "ticks": ""
            },
            "colorscale": [
             [
              0,
              "#0d0887"
             ],
             [
              0.1111111111111111,
              "#46039f"
             ],
             [
              0.2222222222222222,
              "#7201a8"
             ],
             [
              0.3333333333333333,
              "#9c179e"
             ],
             [
              0.4444444444444444,
              "#bd3786"
             ],
             [
              0.5555555555555556,
              "#d8576b"
             ],
             [
              0.6666666666666666,
              "#ed7953"
             ],
             [
              0.7777777777777778,
              "#fb9f3a"
             ],
             [
              0.8888888888888888,
              "#fdca26"
             ],
             [
              1,
              "#f0f921"
             ]
            ],
            "type": "histogram2d"
           }
          ],
          "histogram2dcontour": [
           {
            "colorbar": {
             "outlinewidth": 0,
             "ticks": ""
            },
            "colorscale": [
             [
              0,
              "#0d0887"
             ],
             [
              0.1111111111111111,
              "#46039f"
             ],
             [
              0.2222222222222222,
              "#7201a8"
             ],
             [
              0.3333333333333333,
              "#9c179e"
             ],
             [
              0.4444444444444444,
              "#bd3786"
             ],
             [
              0.5555555555555556,
              "#d8576b"
             ],
             [
              0.6666666666666666,
              "#ed7953"
             ],
             [
              0.7777777777777778,
              "#fb9f3a"
             ],
             [
              0.8888888888888888,
              "#fdca26"
             ],
             [
              1,
              "#f0f921"
             ]
            ],
            "type": "histogram2dcontour"
           }
          ],
          "mesh3d": [
           {
            "colorbar": {
             "outlinewidth": 0,
             "ticks": ""
            },
            "type": "mesh3d"
           }
          ],
          "parcoords": [
           {
            "line": {
             "colorbar": {
              "outlinewidth": 0,
              "ticks": ""
             }
            },
            "type": "parcoords"
           }
          ],
          "pie": [
           {
            "automargin": true,
            "type": "pie"
           }
          ],
          "scatter": [
           {
            "fillpattern": {
             "fillmode": "overlay",
             "size": 10,
             "solidity": 0.2
            },
            "type": "scatter"
           }
          ],
          "scatter3d": [
           {
            "line": {
             "colorbar": {
              "outlinewidth": 0,
              "ticks": ""
             }
            },
            "marker": {
             "colorbar": {
              "outlinewidth": 0,
              "ticks": ""
             }
            },
            "type": "scatter3d"
           }
          ],
          "scattercarpet": [
           {
            "marker": {
             "colorbar": {
              "outlinewidth": 0,
              "ticks": ""
             }
            },
            "type": "scattercarpet"
           }
          ],
          "scattergeo": [
           {
            "marker": {
             "colorbar": {
              "outlinewidth": 0,
              "ticks": ""
             }
            },
            "type": "scattergeo"
           }
          ],
          "scattergl": [
           {
            "marker": {
             "colorbar": {
              "outlinewidth": 0,
              "ticks": ""
             }
            },
            "type": "scattergl"
           }
          ],
          "scattermapbox": [
           {
            "marker": {
             "colorbar": {
              "outlinewidth": 0,
              "ticks": ""
             }
            },
            "type": "scattermapbox"
           }
          ],
          "scatterpolar": [
           {
            "marker": {
             "colorbar": {
              "outlinewidth": 0,
              "ticks": ""
             }
            },
            "type": "scatterpolar"
           }
          ],
          "scatterpolargl": [
           {
            "marker": {
             "colorbar": {
              "outlinewidth": 0,
              "ticks": ""
             }
            },
            "type": "scatterpolargl"
           }
          ],
          "scatterternary": [
           {
            "marker": {
             "colorbar": {
              "outlinewidth": 0,
              "ticks": ""
             }
            },
            "type": "scatterternary"
           }
          ],
          "surface": [
           {
            "colorbar": {
             "outlinewidth": 0,
             "ticks": ""
            },
            "colorscale": [
             [
              0,
              "#0d0887"
             ],
             [
              0.1111111111111111,
              "#46039f"
             ],
             [
              0.2222222222222222,
              "#7201a8"
             ],
             [
              0.3333333333333333,
              "#9c179e"
             ],
             [
              0.4444444444444444,
              "#bd3786"
             ],
             [
              0.5555555555555556,
              "#d8576b"
             ],
             [
              0.6666666666666666,
              "#ed7953"
             ],
             [
              0.7777777777777778,
              "#fb9f3a"
             ],
             [
              0.8888888888888888,
              "#fdca26"
             ],
             [
              1,
              "#f0f921"
             ]
            ],
            "type": "surface"
           }
          ],
          "table": [
           {
            "cells": {
             "fill": {
              "color": "#EBF0F8"
             },
             "line": {
              "color": "white"
             }
            },
            "header": {
             "fill": {
              "color": "#C8D4E3"
             },
             "line": {
              "color": "white"
             }
            },
            "type": "table"
           }
          ]
         },
         "layout": {
          "annotationdefaults": {
           "arrowcolor": "#2a3f5f",
           "arrowhead": 0,
           "arrowwidth": 1
          },
          "autotypenumbers": "strict",
          "coloraxis": {
           "colorbar": {
            "outlinewidth": 0,
            "ticks": ""
           }
          },
          "colorscale": {
           "diverging": [
            [
             0,
             "#8e0152"
            ],
            [
             0.1,
             "#c51b7d"
            ],
            [
             0.2,
             "#de77ae"
            ],
            [
             0.3,
             "#f1b6da"
            ],
            [
             0.4,
             "#fde0ef"
            ],
            [
             0.5,
             "#f7f7f7"
            ],
            [
             0.6,
             "#e6f5d0"
            ],
            [
             0.7,
             "#b8e186"
            ],
            [
             0.8,
             "#7fbc41"
            ],
            [
             0.9,
             "#4d9221"
            ],
            [
             1,
             "#276419"
            ]
           ],
           "sequential": [
            [
             0,
             "#0d0887"
            ],
            [
             0.1111111111111111,
             "#46039f"
            ],
            [
             0.2222222222222222,
             "#7201a8"
            ],
            [
             0.3333333333333333,
             "#9c179e"
            ],
            [
             0.4444444444444444,
             "#bd3786"
            ],
            [
             0.5555555555555556,
             "#d8576b"
            ],
            [
             0.6666666666666666,
             "#ed7953"
            ],
            [
             0.7777777777777778,
             "#fb9f3a"
            ],
            [
             0.8888888888888888,
             "#fdca26"
            ],
            [
             1,
             "#f0f921"
            ]
           ],
           "sequentialminus": [
            [
             0,
             "#0d0887"
            ],
            [
             0.1111111111111111,
             "#46039f"
            ],
            [
             0.2222222222222222,
             "#7201a8"
            ],
            [
             0.3333333333333333,
             "#9c179e"
            ],
            [
             0.4444444444444444,
             "#bd3786"
            ],
            [
             0.5555555555555556,
             "#d8576b"
            ],
            [
             0.6666666666666666,
             "#ed7953"
            ],
            [
             0.7777777777777778,
             "#fb9f3a"
            ],
            [
             0.8888888888888888,
             "#fdca26"
            ],
            [
             1,
             "#f0f921"
            ]
           ]
          },
          "colorway": [
           "#636efa",
           "#EF553B",
           "#00cc96",
           "#ab63fa",
           "#FFA15A",
           "#19d3f3",
           "#FF6692",
           "#B6E880",
           "#FF97FF",
           "#FECB52"
          ],
          "font": {
           "color": "#2a3f5f"
          },
          "geo": {
           "bgcolor": "white",
           "lakecolor": "white",
           "landcolor": "#E5ECF6",
           "showlakes": true,
           "showland": true,
           "subunitcolor": "white"
          },
          "hoverlabel": {
           "align": "left"
          },
          "hovermode": "closest",
          "mapbox": {
           "style": "light"
          },
          "paper_bgcolor": "white",
          "plot_bgcolor": "#E5ECF6",
          "polar": {
           "angularaxis": {
            "gridcolor": "white",
            "linecolor": "white",
            "ticks": ""
           },
           "bgcolor": "#E5ECF6",
           "radialaxis": {
            "gridcolor": "white",
            "linecolor": "white",
            "ticks": ""
           }
          },
          "scene": {
           "xaxis": {
            "backgroundcolor": "#E5ECF6",
            "gridcolor": "white",
            "gridwidth": 2,
            "linecolor": "white",
            "showbackground": true,
            "ticks": "",
            "zerolinecolor": "white"
           },
           "yaxis": {
            "backgroundcolor": "#E5ECF6",
            "gridcolor": "white",
            "gridwidth": 2,
            "linecolor": "white",
            "showbackground": true,
            "ticks": "",
            "zerolinecolor": "white"
           },
           "zaxis": {
            "backgroundcolor": "#E5ECF6",
            "gridcolor": "white",
            "gridwidth": 2,
            "linecolor": "white",
            "showbackground": true,
            "ticks": "",
            "zerolinecolor": "white"
           }
          },
          "shapedefaults": {
           "line": {
            "color": "#2a3f5f"
           }
          },
          "ternary": {
           "aaxis": {
            "gridcolor": "white",
            "linecolor": "white",
            "ticks": ""
           },
           "baxis": {
            "gridcolor": "white",
            "linecolor": "white",
            "ticks": ""
           },
           "bgcolor": "#E5ECF6",
           "caxis": {
            "gridcolor": "white",
            "linecolor": "white",
            "ticks": ""
           }
          },
          "title": {
           "x": 0.05
          },
          "xaxis": {
           "automargin": true,
           "gridcolor": "white",
           "linecolor": "white",
           "ticks": "",
           "title": {
            "standoff": 15
           },
           "zerolinecolor": "white",
           "zerolinewidth": 2
          },
          "yaxis": {
           "automargin": true,
           "gridcolor": "white",
           "linecolor": "white",
           "ticks": "",
           "title": {
            "standoff": 15
           },
           "zerolinecolor": "white",
           "zerolinewidth": 2
          }
         }
        },
        "title": {
         "text": "Comparison of RFM Segments Based on Recency, Frequency, and Monetary Scores"
        },
        "xaxis": {
         "title": {
          "text": "RFM Segments"
         }
        },
        "yaxis": {
         "title": {
          "text": "Score"
         }
        }
       }
      }
     },
     "metadata": {},
     "output_type": "display_data"
    }
   ],
   "source": [
    "segment_scores=rfm.groupby('RFM_Customer_Segments')[['R', 'F', 'M']].mean().reset_index()\n",
    "fig=go.Figure()\n",
    "\n",
    "#add Bars for Recency Score\n",
    "fig.add_trace(go.Bar(\n",
    "    x=segment_scores['RFM_Customer_Segments'],\n",
    "    y=segment_scores['R'],\n",
    "    name='Recency Score',\n",
    "    marker_color='rgb(158,202,255)'\n",
    "))\n",
    "\n",
    "#add Bars for Frequency Score\n",
    "fig.add_trace(go.Bar(\n",
    "    x=segment_scores['RFM_Customer_Segments'],\n",
    "    y=segment_scores['F'],\n",
    "    name='Frequency Score',\n",
    "    marker_color='rgb(94,158,217)'\n",
    "))\n",
    "\n",
    "#add Bars for Recency Score\n",
    "fig.add_trace(go.Bar(\n",
    "    x=segment_scores['RFM_Customer_Segments'],\n",
    "    y=segment_scores['M'],\n",
    "    name='Monetary Score',\n",
    "    marker_color='rgb(32,102,148)'\n",
    "))\n",
    "\n",
    "#Update LAyout\n",
    "fig.update_layout(\n",
    "    title='Comparison of RFM Segments Based on Recency, Frequency, and Monetary Scores',\n",
    "    xaxis_title='RFM Segments',\n",
    "    yaxis_title='Score',\n",
    "    barmode='group',\n",
    "    showlegend=True\n",
    ")\n",
    "\n",
    "fig.show()"
   ]
  }
 ],
 "metadata": {
  "kernelspec": {
   "display_name": "Python 3",
   "language": "python",
   "name": "python3"
  },
  "language_info": {
   "codemirror_mode": {
    "name": "ipython",
    "version": 3
   },
   "file_extension": ".py",
   "mimetype": "text/x-python",
   "name": "python",
   "nbconvert_exporter": "python",
   "pygments_lexer": "ipython3",
   "version": "3.11.9"
  }
 },
 "nbformat": 4,
 "nbformat_minor": 2
}
